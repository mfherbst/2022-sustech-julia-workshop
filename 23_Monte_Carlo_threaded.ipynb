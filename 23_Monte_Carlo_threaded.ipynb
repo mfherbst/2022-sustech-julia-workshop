{
 "cells": [
  {
   "cell_type": "markdown",
   "id": "a31a26bd",
   "metadata": {},
   "source": [
    "# Multithreaded Monte Carlo approach to estimating π\n",
    "\n",
    "The aim of this notebook is to compute the value of $\\pi$ using a parallel Monte-Carlo implementation using thread-based parallelism.\n",
    "\n",
    "It follows the classic approach to consider a circle of radius $1$ inscribed inside a unit square with side length $2$, running from $-1$ to $1$ in each axis. Since the area of the circle is $\\pi$, but the area of the square is $4$, a random \"dart\" thrown to the square will be inside the circle with probability $\\pi/4$. Therefore if we throw $N$ darts randomly, roughly $M = N \\pi/4$ will be inside the unit circle:"
   ]
  },
  {
   "cell_type": "code",
   "execution_count": null,
   "id": "cf844b60",
   "metadata": {},
   "outputs": [],
   "source": [
    "using Plots\n",
    "using Distributions\n",
    "\n",
    "# Determine where 500 random darts would land\n",
    "N  = 500\n",
    "d  = Uniform(-1.0, 1.0)\n",
    "xs = rand(d, N)\n",
    "ys = rand(d, N)\n",
    "is_inside = [sqrt(x^2 + y^2) < 1.0 for (x, y) in zip(xs, ys)]\n",
    "M = sum(is_inside)\n",
    "\n",
    "# Plot the circle\n",
    "circle = Plots.partialcircle(0, 2π, 100)\n",
    "p = plot(circle; title=\"Inside: M = $M => π ≈ $(4M/N)\",\n",
    "         aspect_ratio=:equal, legend=false, grid=false,\n",
    "         xlims=(-1, 1), lw=3)\n",
    "\n",
    "# Plot the points\n",
    "scatter!(p, xs, ys; ms=2, color=[red ? :red : :black for red in is_inside])"
   ]
  },
  {
   "cell_type": "markdown",
   "id": "6a98a9a6",
   "metadata": {},
   "source": [
    "## Basic Julia implementation\n",
    "\n",
    "A basic Julia implementation of this method to compute $\\pi$ is:"
   ]
  },
  {
   "cell_type": "code",
   "execution_count": null,
   "id": "4c0ec8cf",
   "metadata": {},
   "outputs": [],
   "source": [
    "function montecarlo_pi(N)\n",
    "    M = 0  # count darts that landed in the circle\n",
    "    for i in 1:N\n",
    "        if sqrt(rand()^2 + rand()^2) < 1.0\n",
    "            M += 1\n",
    "        end\n",
    "    end\n",
    "    4 * M / N\n",
    "end"
   ]
  },
  {
   "cell_type": "code",
   "execution_count": null,
   "id": "ccfd8f31",
   "metadata": {},
   "outputs": [],
   "source": [
    "montecarlo_pi(10_000_000)"
   ]
  },
  {
   "cell_type": "markdown",
   "id": "e614da47",
   "metadata": {},
   "source": [
    "**Exercise:**\n",
    "\n",
    "1. Write a function `montecarlo_pi_threads(N::Int)`, which is based on `montecarlo_pi(N::Int)`, but distributes the work using the `Threads.nthreads()` available threads.\n",
    "\n",
    "\n",
    "2. Benchmark and compare both `montecarlo_pi(N::Int)` and `montecarlo_pi_threads(N::Int)`. For this part (and all following parts) use `N = 10_000_000` as a reasonable value for $N$.\n",
    "\n",
    "\n",
    "3. Based on the function `montecarlo_pi(N::Int)` code up a function `montecarlo_pi_all(Ns::Vector{Int})`, which computes $\\pi$ for all passed values for $N$. The function should be serial.\n",
    "\n",
    "\n",
    "4. Write a function `montecarlo_pi_all_threads(Ns::Vector{Int})`, which uses multithreading to do the same thing as 3., but in parallel. Build this function upon the serial function `montecarlo_pi(N::Int)` as well. Benchmark and compare this function with the implementation from 3.\n",
    "\n",
    "5. Write a function `montecarlo_pi_nested(Ns::Vector{Int})`, which does the maximal parallelisation possible. Again benchmark this function and compare against your result from 4.\n",
    "\n",
    "6. Calculate estimates of $\\pi$ for\n",
    "   ```julia\n",
    "   Ns = @. ceil(Int, exp10(1:0.15:8.1))\n",
    "   ```\n",
    "   and plot the error of these estimates against the exact $\\pi$ (`π`)\n",
    "   versus the employed $N$ on a semilog plot.\n",
    "   \n",
    "\n",
    "\n",
    "\n",
    "   \n",
    "**Bonus:** In the lectures we discussed a number of different multithreading strategies. Try to achieve questions 2, 4 and 5 with as many of them as possible."
   ]
  }
 ],
 "metadata": {
  "@webio": {
   "lastCommId": null,
   "lastKernelId": null
  },
  "kernelspec": {
   "display_name": "Julia (4 threads) 1.8.1",
   "language": "julia",
   "name": "julia-(4-threads)-1.8"
  },
  "language_info": {
   "file_extension": ".jl",
   "mimetype": "application/julia",
   "name": "julia",
   "version": "1.8.1"
  }
 },
 "nbformat": 4,
 "nbformat_minor": 5
}
