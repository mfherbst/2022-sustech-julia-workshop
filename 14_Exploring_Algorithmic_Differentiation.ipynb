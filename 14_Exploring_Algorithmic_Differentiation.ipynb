{
 "cells": [
  {
   "cell_type": "markdown",
   "metadata": {},
   "source": [
    "# Exploring algorithmic differentation\n",
    "\n",
    "In this notebook you will explore for yourself how Julia's composability allows to very quickly superchange existing code with new features, just by changing the way the compiler sees the already existing code. Custom types and Julia's multiple dispatch are crucial to make this work out easily as we will see.\n",
    "\n",
    "## Babylonian square root\n",
    "\n",
    "In this work we will consider the *Babylonian Square Root* algorithm, which is a simple iterative algorithm the Babylonians invented for computing the square root of a number $x$:\n",
    "\n",
    "   * Initialise $t \\leftarrow (1 + x) / 2$\n",
    "   * Repeat $t \\leftarrow (t + x / 2) / 2$ for $N$ times.\n",
    "   * $t$ converges to $\\sqrt{x}$.\n",
    "\n",
    "In Julia code this can be implemented as follows:"
   ]
  },
  {
   "cell_type": "code",
   "execution_count": null,
   "metadata": {},
   "outputs": [],
   "source": [
    "function babylonian_sqrt(x; N=10)\n",
    "    t = (1 + x) / 2\n",
    "    for i = 2:N\n",
    "        t = (t + x / t) / 2\n",
    "    end\n",
    "    t\n",
    "end"
   ]
  },
  {
   "cell_type": "markdown",
   "metadata": {},
   "source": [
    "**Exercise:**\n",
    "\n",
    "1. Confirm that `babylonian_sqrt` converges to $\\sqrt{x}$ by comparing it with Julia's standard `sqrt` function. As a reference compute `sqrt(big\"2.0\")`, then compute `sqrt_babylonian` for `N=1` to `N=10`.\n",
    "    * What is the error of `babylonian_sqrt` against the reference in each case?\n",
    "    * Plot the absolute error (note the `abs` function) on a semilog scale versus `N` (use the `Plots` package and pass the kwarg `yaxis=:log` to the `plot` function)\n",
    "    * Does increasing `N` reduce the error?\n",
    "    * How can you get a more accurate answer without changing the implementation of `babylonian_sqrt`?\n",
    "    * Why is `sqrt(big\"2.0\")` a good reference in the first place?"
   ]
  },
  {
   "cell_type": "code",
   "execution_count": null,
   "metadata": {},
   "outputs": [],
   "source": [
    "# You're solution ..."
   ]
  },
  {
   "cell_type": "markdown",
   "metadata": {},
   "source": [
    "2. Do the same thing as in 1., but using a different data type for the input number, try `Float16`, `Float32`, `Float64`, and `BigFloat` and again vary `N`. Plot the error against the reference for all data types in one plot (use the `plot!` function to add another plot to an existing canvas)."
   ]
  },
  {
   "cell_type": "code",
   "execution_count": null,
   "metadata": {},
   "outputs": [],
   "source": [
    "# You're solution ..."
   ]
  },
  {
   "cell_type": "markdown",
   "metadata": {},
   "source": [
    "## Algorithmic differentiation\n",
    "\n",
    "We already saw [previously](13_Composability_Code_Reuse.ipynb) that we can obtain new features in Julia by changing the input type. A powerful data type invented by Clifford in 1873 is the [*dual number*](https://en.wikipedia.org/wiki/Dual_number). Based on these dual numbers one can (for example) perform what is now known as forward-mode automatic differentiation (AD).\n",
    "\n",
    "In practice Julia already has the [ForwardDiff](https://github.com/JuliaDiff/ForwardDiff.jl) package to bring this feature to the ecosystem, but to understand a bit better how this works we will roll our own simple (and incomplete) Julia implementation:"
   ]
  },
  {
   "cell_type": "code",
   "execution_count": null,
   "metadata": {},
   "outputs": [],
   "source": [
    "struct Dual <: Number\n",
    "    x::Float64   # Value\n",
    "    δx::Float64  # Derivative\n",
    "end\n",
    "\n",
    "# Implementation of basic derivative rules:\n",
    "Base.:+(a::Dual, b::Dual) = Dual(a.x + b.x, a.δx + b.δx)  # (f+g)'(x) = f'(x) + g'(x)\n",
    "Base.:-(a::Dual, b::Dual) = Dual(a.x - b.x, a.δx - b.δx)\n",
    "Base.:*(a::Dual, b::Dual) = Dual(a.x * b.x,  a.x * b.δx + a.δx * b.x )  # (f*g)'(x) = f(x)*g'(x) + f'(x)*g(x)\n",
    "Base.:/(a::Dual, b::Dual) = Dual(a.x / b.x, (b.x * a.δx - a.x  * b.δx) / b.x^2)\n",
    "\n",
    "# Handling type conversion\n",
    "Base.convert(::Type{Dual}, x::Real) = Dual(x, zero(x))\n",
    "Base.promote_rule(::Type{Dual}, ::Type{<:Number}) = Dual"
   ]
  },
  {
   "cell_type": "markdown",
   "metadata": {},
   "source": [
    "With these 15 lines of code derivatives of Julia functions (that only rely on `+`, `-`, `*` and `/`) can now be obtained. For convenience we introduce the following function for this purpose:"
   ]
  },
  {
   "cell_type": "code",
   "execution_count": null,
   "metadata": {},
   "outputs": [],
   "source": [
    "derivative(f::Function, x::Number) = f(  Dual(x, one(x))  ).δx"
   ]
  },
  {
   "cell_type": "code",
   "execution_count": null,
   "metadata": {},
   "outputs": [],
   "source": [
    "derivative(x -> x, 2.0)"
   ]
  },
  {
   "cell_type": "markdown",
   "metadata": {},
   "source": [
    "**Exercise:**\n",
    "\n",
    "3. Compare `derivative(babylonian_sqrt, some_number)` against the correct analytical derivative of $\\sqrt{x}$ at this point. Does it give the correct derivative?\n",
    "\n",
    "4. Try `derivative` on other functions or algorithms. For example code up a recursive exponentiation function like\n",
    "    ```julia\n",
    "    pow(x, n) = n <= 0 ? one(x) : x * pow(x, n - 1)\n",
    "    ```"
   ]
  },
  {
   "cell_type": "code",
   "execution_count": null,
   "metadata": {},
   "outputs": [],
   "source": [
    "# You're solution ..."
   ]
  },
  {
   "cell_type": "markdown",
   "metadata": {},
   "source": [
    "## Symbolic manipulations\n",
    "\n",
    "Now imagine you are tasked to quickly confirm that the Babylonian approximation for `N=4` is equivalent to the analytical form\n",
    "\n",
    "$$\n",
    "\\text{babylonian_sqrt}(x; N=4) \\approx \\begin{equation}\n",
    "\\frac{\\frac{1}{32768} + \\frac{15}{4096} x + \\frac{455}{8192} x^{2} + \\frac{15}{4096} x^{7} + \\frac{455}{8192} x^{6} + \\frac{1001}{4096} x^{3} + \\frac{6435}{16384} x^{4} + \\frac{1001}{4096} x^{5} + \\frac{1}{32768} x^{8}}{\\left( \\frac{1}{2} + \\frac{1}{2} x \\right) \\left( \\frac{1}{8} + \\frac{1}{8} x^{2} + \\frac{3}{4} x \\right) \\left( \\frac{1}{128} + \\frac{1}{128} x^{4} + \\frac{7}{32} x + \\frac{35}{64} x^{2} + \\frac{7}{32} x^{3} \\right)}\n",
    "\\end{equation}\n",
    "$$\n",
    "\n",
    "**Exercise:**\n",
    "\n",
    "5. Is this formula correct?\n",
    "    - Hint: Use the `Symbolics` package, in particular `@variables x` and `simplify`.\n",
    "    - Note: Make sure you have `N=4` since for larger `N` problems might start to occur."
   ]
  },
  {
   "cell_type": "code",
   "execution_count": null,
   "metadata": {},
   "outputs": [],
   "source": [
    "# You're solution here ..."
   ]
  }
 ],
 "metadata": {
  "@webio": {
   "lastCommId": null,
   "lastKernelId": null
  },
  "kernelspec": {
   "display_name": "Julia 1.8.1",
   "language": "julia",
   "name": "julia-1.8"
  },
  "language_info": {
   "file_extension": ".jl",
   "mimetype": "application/julia",
   "name": "julia",
   "version": "1.8.1"
  }
 },
 "nbformat": 4,
 "nbformat_minor": 4
}
