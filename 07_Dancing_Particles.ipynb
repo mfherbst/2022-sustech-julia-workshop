{
 "cells": [
  {
   "cell_type": "markdown",
   "metadata": {},
   "source": [
    "# Dancing particles\n",
    "\n",
    "This exercise will be concerned with developing a simple code for the classical dynamics of interacting particles.\n",
    "\n",
    "Notice that there are already a number of Julia packages (such as [Molly](https://github.com/JuliaMolSim/Molly.jl) or [NBodySimulator](https://github.com/SciML/NBodySimulator.jl)), which are able to do this in various contexts, so in practice one should rather resort to these packages instead of starting from scratch.\n",
    "\n",
    "Still, why not just get our hands dirty with what we know so far ;)."
   ]
  },
  {
   "cell_type": "markdown",
   "metadata": {},
   "source": [
    "## Propagating a particle in time\n",
    "\n",
    "Assume we are given a potential $V(x)$ for a single\n",
    "particle with unit mass at position $x$. We want to propagate the particle in time.\n",
    "That's integrating the famous Newton's equation of motion\n",
    "$$ -\\frac{dV}{dx} = \\frac{d^2x}{dt^2}$$\n",
    "in time. Defining the force map\n",
    "$$ F_V = -\\frac{dV}{dx}$$\n",
    "this may be written equivalently:\n",
    "$$\\left\\{\\begin{array}{l}\n",
    "\\frac{dv}{dt} = F_V \\\\\n",
    "\\frac{dx}{dt} = v\n",
    "\\end{array}\\right. $$"
   ]
  },
  {
   "cell_type": "markdown",
   "metadata": {},
   "source": [
    "At first we will just apply forward-Euler: We discrete in time using the interval\n",
    "$\\Delta t$, which leads to sequences $t_{n} = n \\Delta t + t_{0}$ and similarly $v_{n}$, $x_{n}$, etc:\n",
    "$$\\left\\{\\begin{array}{l}\n",
    "v_{n+1} = v_{n} + F_V(x_{n}) \\Delta t\\\\\n",
    "x_{n+1} = x_{n} + v_{n} \\Delta t\\\\\n",
    "\\end{array}\\right. .$$\n",
    "This is transformed to a Julia by pretty much copy-n-paste of the equations"
   ]
  },
  {
   "cell_type": "code",
   "execution_count": null,
   "metadata": {},
   "outputs": [],
   "source": [
    "function euler(F, Δt, xₙ, vₙ) \n",
    "    xₙ₊₁ = xₙ +    vₙ * Δt   # Type as x \\_n<tab> \\_+<tab> \\_1<tab> ...\n",
    "    vₙ₊₁ = vₙ + F(xₙ) * Δt\n",
    "    xₙ₊₁, vₙ₊₁  # Return next position and velocity as a tuple\n",
    "end"
   ]
  },
  {
   "cell_type": "markdown",
   "metadata": {},
   "source": [
    "where `F` is a function to be passed to `euler`, for example:"
   ]
  },
  {
   "cell_type": "code",
   "execution_count": null,
   "metadata": {},
   "outputs": [],
   "source": [
    "F(x) = -x\n",
    "Δt = 0.1\n",
    "x₀ = 0\n",
    "v₀ = 1\n",
    "x₁, v₁ = euler(F, 0.1, x₀, v₀)"
   ]
  },
  {
   "cell_type": "markdown",
   "metadata": {},
   "source": [
    "Of course we can repeat this now and get a particle moving in phase space:"
   ]
  },
  {
   "cell_type": "code",
   "execution_count": null,
   "metadata": {},
   "outputs": [],
   "source": [
    "Δt   = 0.1\n",
    "x, v = 0, 1\n",
    "for n = 1:10\n",
    "    @show x, v\n",
    "    x, v = euler(F, Δt, x, v)\n",
    "end "
   ]
  },
  {
   "cell_type": "markdown",
   "metadata": {},
   "source": [
    "## Taking derivatives without headaches\n",
    "\n",
    "First we consider the Harmonic potential. We plot the function and its derivative"
   ]
  },
  {
   "cell_type": "code",
   "execution_count": null,
   "metadata": {},
   "outputs": [],
   "source": [
    "using Plots"
   ]
  },
  {
   "cell_type": "code",
   "execution_count": null,
   "metadata": {},
   "outputs": [],
   "source": [
    "Vho(r,  a=0.5) = (r - a)^2   # Shifted harmonic oscillator\n",
    "dVho(r, a=0.5) = 2r -2a      # Derivative\n",
    "\n",
    "p = plot(xlims=(-5, 5), xaxis=\"relative radial distance\")\n",
    "plot!(p, Vho,  label=\"Vho a=0.5\")  # Note: Plots figures out adaptively\n",
    "plot!(p, dVho, label=\"∂Vho\")       # where to sample the functions"
   ]
  },
  {
   "cell_type": "markdown",
   "metadata": {},
   "source": [
    "Now, taking the derivative for the harmonic oscillator this is kind of ok, but for more complicated potentials $V$ this quickly becomes error prone and most importantly quite *boring*. The solution is **algorithmic differentiation**, where the Julia compiler is taught how to automatically trace the code and not only produce the function value, but also produce a derivative.\n",
    "\n",
    "Without going into further details here, let us use the `Zygote` package to take the derivative on `Vho` as defined above:"
   ]
  },
  {
   "cell_type": "code",
   "execution_count": null,
   "metadata": {},
   "outputs": [],
   "source": [
    "using Zygote\n",
    "\n",
    "p = plot(xlims=(-5, 5), xaxis=\"relative radial distance\")\n",
    "plot!(p, Vho,  label=\"Vho a=0.5\")\n",
    "plot!(p, Vho', label=\"∂Vho\")   # Notice the dash"
   ]
  },
  {
   "cell_type": "markdown",
   "metadata": {},
   "source": [
    "With ease we add the second derivative to the plot:"
   ]
  },
  {
   "cell_type": "code",
   "execution_count": null,
   "metadata": {},
   "outputs": [],
   "source": [
    "plot!(p, Vho'', label=\"∂∂Vho\")"
   ]
  },
  {
   "cell_type": "markdown",
   "metadata": {},
   "source": [
    "An important thing to note is that this **really generates the derivative code** instead of numerical differentiation (i.e. finite-differences):"
   ]
  },
  {
   "cell_type": "code",
   "execution_count": null,
   "metadata": {},
   "outputs": [],
   "source": [
    "@code_llvm debuginfo=:none Vho'(1.0)"
   ]
  },
  {
   "cell_type": "markdown",
   "metadata": {},
   "source": [
    "Or written out more nicely (Take `%0 = x`):\n",
    "```\n",
    "    %1 = x - 0.5\n",
    "    %2 = 2 * (x - 0.5)\n",
    "    ret %2 = return 2 * (x - 0.5)\n",
    "```"
   ]
  },
  {
   "cell_type": "markdown",
   "metadata": {},
   "source": [
    "Now let us consider more complicated potentials, for example the **Morse potential**, which is a common model for a chemical bond:\n",
    "$$ V_\\text{Morse} = D (1 - \\exp(-\\alpha (r - r_0)))^2 - D$$"
   ]
  },
  {
   "cell_type": "code",
   "execution_count": null,
   "metadata": {
    "scrolled": true
   },
   "outputs": [],
   "source": [
    "Vmorse(r; r₀=0.7, α=1.3, D=10) = D*(1 - exp(-α * (r - r₀)))^2 - D"
   ]
  },
  {
   "cell_type": "code",
   "execution_count": null,
   "metadata": {},
   "outputs": [],
   "source": [
    "p = plot(xlims=(0, 7), ylims=(-25, 25), xaxis=\"Radial distance\")\n",
    "plot!(Vmorse,      label=\"Vmorse\")\n",
    "plot!(p, Vmorse',  label=\"Vmorse'\")\n",
    "plot!(p, Vmorse'', label=\"Vmorse''\")"
   ]
  },
  {
   "cell_type": "markdown",
   "metadata": {},
   "source": [
    "This works for higher dimensions and more complicated expressions, too, we will use this in a sec."
   ]
  },
  {
   "cell_type": "markdown",
   "metadata": {},
   "source": [
    "## Inspecting Euler dynamics in 1D\n",
    "\n",
    "Now we actually want to see things! We define a plot function to plot the potential and animate the particle over time:"
   ]
  },
  {
   "cell_type": "code",
   "execution_count": null,
   "metadata": {},
   "outputs": [],
   "source": [
    "using Printf\n",
    "\n",
    "# The arguments after the ; are so-called keyword arguments, they can be omitted\n",
    "# and then the default value after the = is used\n",
    "function plot_dynamics_line(V, Δt, n_steps; x₀=0.0, v₀=randn(), integrator=euler,\n",
    "                            xlim=(-5, 5), ylim=(0, 10))\n",
    "    t, x, v = 0.0, x₀, v₀  # Initialise state\n",
    "    \n",
    "    # Compute potential values (for plotting)\n",
    "    xrange = xlim[1]:0.1:xlim[2]\n",
    "    Vrange = V.(xrange)\n",
    "    \n",
    "    # @gif is a macro to \"record\" an animation of the dynamics,\n",
    "    # each loop iteration gives a frame\n",
    "    @gif for i in 1:n_steps\n",
    "        # Propagate dynamics (notice the derivative)\n",
    "        x, v = integrator(x -> -V'(x), Δt, x, v)\n",
    "        t += Δt\n",
    "\n",
    "        # Plot potential\n",
    "        p = plot(xrange, Vrange; label=\"Potential\", xlim, ylim)\n",
    "        \n",
    "        # Plot the particle and its velocity (as an arrow)\n",
    "        timestr = @sprintf \"%.2f\" t   # Format time as a nice string\n",
    "        scatter!(p, [x], [V(x)], label=\"Particle at t=$timestr\")\n",
    "        plot!(p, [(x, V(x)), (x + 0.5v, V(x))], arrow=1.0,\n",
    "              label=\"particle velocity / 2\")\n",
    "    end\n",
    "end"
   ]
  },
  {
   "cell_type": "code",
   "execution_count": null,
   "metadata": {},
   "outputs": [],
   "source": [
    "# Now let's actually see it ....\n",
    "plot_dynamics_line(Vho, 0.1, 200)"
   ]
  },
  {
   "cell_type": "markdown",
   "metadata": {},
   "source": [
    "Wow ... that's strange. \n",
    "Our plot points at the well-known problem that energy is not conserved for a simple forward Euler scheme.\n",
    "We can also diagnose this using a phase-space plot, where the time evolution of particle position $x$ and particle velocity $v$ is shown. This should be a closed curve if energy is conserved, so let's see ..."
   ]
  },
  {
   "cell_type": "code",
   "execution_count": null,
   "metadata": {},
   "outputs": [],
   "source": [
    "function plot_phase_space(F, Δt, n_steps; x₀=0.0, v₀=randn(), integrator=euler,\n",
    "                          xlim=(-7, 7), ylim=(-7, 7))\n",
    "    x, v = x₀, v₀\n",
    "    p = plot([x], [v]; xlim, ylim, label=\"\", xaxis=\"position\", yaxis=\"velocity\")\n",
    "    @gif for N in 1:n_steps\n",
    "        x, v = integrator(F, Δt, x, v)\n",
    "        push!(p, x, v)  # Add new positions to the plot ...\n",
    "    end\n",
    "end"
   ]
  },
  {
   "cell_type": "code",
   "execution_count": null,
   "metadata": {},
   "outputs": [],
   "source": [
    "plot_phase_space(x -> -Vho'(x), 0.1, 200)"
   ]
  },
  {
   "cell_type": "markdown",
   "metadata": {},
   "source": [
    "**Exercise:**\n",
    "\n",
    "A much more stable integrator than the `euler` we used so far is the verlocity Verlet:\n",
    "\n",
    "$$\\left\\{\\begin{array}{l}\n",
    "x_{n+1} = x_{n} + v_{n} \\Delta t + \\frac{F_V(x_{n})}{2} \\Delta t^2\\\\\n",
    "v_{n+1} = v_{n} + \\frac{F_V(x_{n}) + F_V(x_{n+1})}{2} \\Delta t\\\\\n",
    "\\end{array}\\right. $$\n",
    "\n",
    "- Program this algorithm, taking care that it supports multi-dimensional positions and velocities as well. In practice we would like to avoid recomputing $F_V(x)$ as much as possible, since this is usually the expensive step of the dynamics. For our purposes there is no need to keep an eye on that for now.\n",
    "- How does the previous dynamics look like in this example. Does this algorithm conserve energy (phase-space plot)?\n",
    "- Also look at the Morse potential"
   ]
  },
  {
   "cell_type": "code",
   "execution_count": null,
   "metadata": {},
   "outputs": [],
   "source": [
    "# solution\n",
    "\n",
    "function verlet(F, Δt, xₙ, vₙ)\n",
    "    # You're code here ...\n",
    "end"
   ]
  },
  {
   "cell_type": "code",
   "execution_count": null,
   "metadata": {},
   "outputs": [],
   "source": [
    "# Some example plots and parameters:\n",
    "# plot_dynamics_line(Vho, 0.1, 200, integrator=verlet, ylim=(0, 2.5), xlim=(-1, 3))\n",
    "# plot_phase_space(x -> -Vho'(x), 0.1, 200, integrator=verlet, xlim=(-2, 2), ylim=(-2, 2))\n",
    "# plot_dynamics_line(Vmorse, 0.03, 200, integrator=verlet, xlim=(-1, 4), ylim=(-10, 5), x₀=2.0)"
   ]
  },
  {
   "cell_type": "markdown",
   "metadata": {},
   "source": [
    "# Multiple particles"
   ]
  },
  {
   "cell_type": "markdown",
   "metadata": {},
   "source": [
    "Now we want to simulate multiple identical partices in 2D. For a system of $N$ particles in 2D, we define the particle positions as the matrix\n",
    "$$ \\textbf{x} = \\left(\n",
    "    \\begin{array}{cccc}\n",
    "        x_{1x} & x_{2x} & \\cdots & x_{Nx} \\\\\n",
    "        x_{1y} & x_{2y} & \\cdots & x_{Ny}\n",
    "    \\end{array}\n",
    "   \\right) = \\left( \\vec{x}_1 \\vec{x}_2 \\cdots \\vec{x}_N \\right). $$\n",
    "with the individual particle vectors as columns.\n",
    "We assume our particles interact via the idential pair potential $V_\\text{pair}(r)$\n",
    "depending only on particle distance $r$. The total potential is therefore\n",
    "$$ V_\\text{tot}(\\textbf{x}) = \\sum_{i=1}^N \\sum_{j=i+1}^N V_\\text{pair}(\\| \\vec{x}_i - \\vec{x}_j \\|). $$"
   ]
  },
  {
   "cell_type": "markdown",
   "metadata": {},
   "source": [
    "### Exercise\n",
    "Program the total potential function for a matrix $\\textbf{x}$. A useful function is `norm` from the `LinearAlgebra` package."
   ]
  },
  {
   "cell_type": "code",
   "execution_count": null,
   "metadata": {},
   "outputs": [],
   "source": [
    "using LinearAlgebra\n",
    "\n",
    "function Vtot(Vpair, x)\n",
    "    # You're code here ...\n",
    "end"
   ]
  },
  {
   "cell_type": "markdown",
   "metadata": {},
   "source": [
    "Now we want to plot the dynamics in a plane. In the following function the force is computed using automatically generated derivatives."
   ]
  },
  {
   "cell_type": "code",
   "execution_count": null,
   "metadata": {},
   "outputs": [],
   "source": [
    "function plot_dynamics_plane(Vpair, Δt, n_steps; x₀=randn(2, 2), v₀=zero(x₀), integrator=verlet,\n",
    "                             xlim=(-3, 3), ylim=(-3, 3))\n",
    "    # Total force via automatic differentiation\n",
    "    V(x) = Vtot(Vpair, x)\n",
    "    Ftot(x) = -V'(x)\n",
    "    \n",
    "    t, x, v = 0, x₀, v₀  # Initialise state\n",
    "    @gif for i in 1:n_steps\n",
    "        # Propagate dynamics\n",
    "        x, v = integrator(Ftot, Δt, x, v)\n",
    "        t += Δt\n",
    "        timestr = @sprintf \"%.2f\" t   # Format time\n",
    "        \n",
    "        # Plot the particles and their velocities\n",
    "        p = scatter(x[1, :], x[2, :]; xlim, ylim, label=\"Particles at t=$timestr\")\n",
    "        label = \"Velocity / 4\"\n",
    "        for (xᵢ, vᵢ) in zip(eachcol(x), eachcol(v))\n",
    "            plot!(p, [Tuple(xᵢ), Tuple(xᵢ + 0.25vᵢ)]; arrow=1.0, colour=:red, label)\n",
    "            label = \"\"\n",
    "        end\n",
    "    end\n",
    "end"
   ]
  },
  {
   "cell_type": "code",
   "execution_count": null,
   "metadata": {},
   "outputs": [],
   "source": [
    "Δt = 0.07\n",
    "n_steps = 300\n",
    "x₀ = [[0.; 0.] [1.; 0.] [-1.; 0.0]]\n",
    "plot_dynamics_plane(Vmorse, Δt, n_steps; x₀)"
   ]
  },
  {
   "cell_type": "markdown",
   "metadata": {},
   "source": [
    "## A few nice examples"
   ]
  },
  {
   "cell_type": "code",
   "execution_count": null,
   "metadata": {},
   "outputs": [],
   "source": [
    "Δt = 0.07\n",
    "n_steps = 300\n",
    "x₀ = [[0.; 0.] [1.; 0.] [-1.; 0.15]]\n",
    "plot_dynamics_plane(Vmorse, Δt, n_steps; x₀)"
   ]
  },
  {
   "cell_type": "code",
   "execution_count": null,
   "metadata": {},
   "outputs": [],
   "source": [
    "Δt = 0.05\n",
    "n_steps = 300\n",
    "x₀ = [[0.; 1.] [1.; 0.] [-1.; 0] [0; -1.2]]\n",
    "plot_dynamics_plane(Vmorse, Δt, n_steps; x₀, ylim=(-10, 10))"
   ]
  },
  {
   "cell_type": "code",
   "execution_count": null,
   "metadata": {},
   "outputs": [],
   "source": [
    "Δt = 0.05\n",
    "n_steps = 300\n",
    "x₀ = 4randn(2, 10)\n",
    "plot_dynamics_plane(Vmorse, Δt, n_steps; x₀, xlim=(-10, 10), ylim=(-10, 10))"
   ]
  }
 ],
 "metadata": {
  "@webio": {
   "lastCommId": null,
   "lastKernelId": null
  },
  "kernelspec": {
   "display_name": "Julia 1.8.1",
   "language": "julia",
   "name": "julia-1.8"
  },
  "language_info": {
   "file_extension": ".jl",
   "mimetype": "application/julia",
   "name": "julia",
   "version": "1.8.1"
  }
 },
 "nbformat": 4,
 "nbformat_minor": 2
}
