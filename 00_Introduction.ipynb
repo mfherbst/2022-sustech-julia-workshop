{
 "cells": [
  {
   "cell_type": "markdown",
   "metadata": {},
   "source": [
    "# Introduction"
   ]
  },
  {
   "cell_type": "markdown",
   "metadata": {},
   "source": [
    "## About this course\n",
    "\n",
    "With this course I want to provide a condensed, high-level overview of key concepts of the Julia programming language and provide a few practical use cases, which show what the language is capable of.\n",
    "\n",
    "We have three sessions of four hours and similarly the material is split into three parts as well. In the first session to be held on Wednesday I will explain you the basics and key concepts. In the second we will work on mainly on questions of performance and in the last session we will speak about parallelisation.\n",
    "\n",
    "In the material I have frequently tried to collect links to the Julia documentation as well as other material, such that you can start exploring on your own. In particular I took a great deal of inspiration from the excellent workshop material of Carsten Bauer, for example [JuliaNRWSS21](https://github.com/carstenbauer/JuliaNRWSS21)."
   ]
  },
  {
   "cell_type": "markdown",
   "metadata": {},
   "source": [
    "## About Julia\n",
    "\n",
    "Before we [start digging](01_Variables_Control_Packages.ipynb) in the lovely world of Julia, let me loose a few words about the language itself.\n",
    "\n",
    "- In February 2022 Julia has [turned 10 years](https://julialang.org/blog/2022/02/10years/).\n",
    "- Project started by Jeff Bezanson, Stefan Karpinski, Viral B. Shah, and Alan Edelman over the frustration of the state of scientific software\n",
    "\n",
    "- What is a good scientific programming language:\n",
    "    - Fast and scalable\n",
    "    - Interactive\n",
    "    - Easy to write and read\n",
    "    - Vanishing division between users and developers\n",
    "\n",
    "- But there are already so many languages, so why Julia?\n",
    "\n",
    "- Traditional divide in languages:\n",
    "    - Compiled / interpreted\n",
    "    - Dynamic / static typing\n",
    "    - Prototyping / production\n",
    "    - Users / developers\n",
    "    \n",
    "- Two language problem\n",
    "    - [language share of numpy](https://github.com/numpy/numpy)\n",
    "    - [language share of Julia](https://github.com/JuliaLang/julia)\n",
    "\n",
    "### The point of Julia\n",
    "\n",
    "- **Walks like Python, talks like Lisp, runs like FORTRAN**\n",
    "    - Development dynamic like writing python code\n",
    "    - Less object-oriented more function-oriented (like Lisp)\n",
    "    - Same speed as FORTRAN or C code (Petaflop club)\n",
    "- *Both* fast and high-level!\n",
    "- Extremely good ratio between coding time and running time.\n",
    "\n",
    "- Key concepts:\n",
    "    - **Just-in-time compilation** (JIT)\n",
    "    - Compilation down to *native code* (running on CPU and GPU, ...)\n",
    "    - Strong type system to encode exploitable properties (e.g. symmetries, sparsities, storage location etc.)\n",
    "    - Multiple dispatch and strong composability of packages (Details later)\n",
    "    - Facilitates code reuse and features for free.\n",
    "\n",
    "- Additional value:\n",
    "    - **Multi-platform** (x86, ARM, PowerPC, Apple's M1)\n",
    "    - **Cross-language support:** Easily use C++, FORTRAN, python, R, Java ... from Julia (and in some cases the other way round, too)\n",
    "    - **Builtin package manager**\n",
    "    - **Unicode support** inside the core language\n",
    "    - **Green threading** and **distributed computing**\n",
    "    - **Macros** are part of the language\n",
    "    - **Rich set of packages**: GPU, Threading, Distributed computing, Plotting, Visualisation, Optimisation, Statistics, Data science, Automatic differentiation, Machine Learning, PDEs ...\n",
    "\n",
    "- Established language and community\n",
    "    - Global community of users and developers\n",
    "    - Used in over 30 universities for teaching\n",
    "    - Multiply awarded: James H. Wilkinson Prize, 30 under 30 (Keno Fisher), IEEE Babbage Prize (Alan Edelman)"
   ]
  }
 ],
 "metadata": {
  "kernelspec": {
   "display_name": "Julia 1.8.1",
   "language": "julia",
   "name": "julia-1.8"
  },
  "language_info": {
   "file_extension": ".jl",
   "mimetype": "application/julia",
   "name": "julia",
   "version": "1.8.1"
  }
 },
 "nbformat": 4,
 "nbformat_minor": 2
}
