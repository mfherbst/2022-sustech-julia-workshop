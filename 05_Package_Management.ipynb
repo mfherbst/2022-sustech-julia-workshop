{
 "cells": [
  {
   "cell_type": "markdown",
   "metadata": {},
   "source": [
    "# Package Management\n",
    "\n",
    "## The Julia REPL\n",
    "\n",
    "Apart from interacting with Julia via a webbrowser and Jupyter (as we will do it in this course). There is also the alternative option to use the Julia REPL. You can get to the REPL by starting `julia` from a terminal. The result is a prompt similar to\n",
    "```\n",
    "               _\n",
    "   _       _ _(_)_     |  Documentation: https://docs.julialang.org\n",
    "  (_)     | (_) (_)    |\n",
    "   _ _   _| |_  __ _   |  Type \"?\" for help, \"]?\" for Pkg help.\n",
    "  | | | | | | |/ _` |  |\n",
    "  | | |_| | | | (_| |  |  Version 1.7.2 (2022-02-06)\n",
    " _/ |\\__'_|_|_|\\__'_|  |  Official https://julialang.org/ release\n",
    "|__/                   |\n",
    "\n",
    "julia> \n",
    "\n",
    "```\n",
    "\n",
    "In this prompt you can directly start typing julia expressions, which will be executed upon `[Enter]`. The REPL is very nice to prototype things and with some optional customisations becomes a very powerful tool. We will not use the REPL much in this course, but still I want to mention some basic aspects to get you started. Mostly this is for people who prefer the commandline over graphics (like me):\n",
    "\n",
    "- Exiting the shell can be achieved using `exit()` or Ctrl + D.\n",
    "- Inside the shell tab completion is available.\n",
    "- The REPL comes in multiple modes. The most useful ones are the (default) Julian mode, Pkg mode (for installing packages), shell mode (for running one-shot shell commands) and help mode. You can get from Julian mode to another by typing a magic key, see the list below. You get back to Julian mode by `[Backspace]` on an empty prompt.\n",
    "\n",
    "| Magic key     | Prompt                  | Mode                         |\n",
    "|---------------|-------------------------|------------------------------|\n",
    "| `[Backspace]` | `julia>`                | Julian mode (Command mode)   |\n",
    "| `]`           | `(v1.7) pkg>`           | Pkg mode                     |\n",
    "| `?`           | `help>`                 | Help mode                    |\n",
    "| `;`           | `shell>`                | Shell command mode           |\n",
    "\n",
    "\n",
    "- To understand Pkg mode better, type `help` once the `(v1.7) pkg>` prompt shows.\n",
    "- In each mode Ctrl + R allows to search backwards in history for a previously entered command.\n",
    "\n",
    "##### For more details\n",
    "- https://docs.julialang.org/en/v1/stdlib/Pkg/\n",
    "- https://docs.julialang.org/en/v1/stdlib/REPL/"
   ]
  },
  {
   "cell_type": "markdown",
   "metadata": {},
   "source": [
    "## Package environments\n",
    "\n",
    "Using external packages is simple and very wide-spread in Julia. You will almost always use external packages in your Julia code.\n",
    "\n",
    "As a result our project will feature **dependencies on other packages** and it can only be executed once those packages are present on teh executing machine.\n",
    "\n",
    "This poses the usual problems of **compatibility** (packages will change over time!) and/or **availability** (packages that are no longer developed might stop working with newer Julia versions).\n",
    "\n",
    "To ensure that our code can be executed we need to guarantee that we have exactly the **exact same versions of the packages** that we had when writing the code.\n",
    "\n",
    "So **sharing the code is not enough** to ensure that someone else (colleague, reviewer, **ourselves in the future**) can run the code.\n",
    "\n",
    "Julia therefore provides a simple way to share both **code and snapshots of employed packages** in a package [environment](https://docs.julialang.org/en/v1/manual/code-loading/#Environments-1).\n",
    "\n",
    "\n",
    "### Exploring packages environments\n",
    "\n",
    "We will now explore package environments in the REPL ...\n",
    "\n",
    "**Most important commands:**\n",
    "\n",
    "* `] status`\n",
    "* `] add SomePackage`\n",
    "* `] remove SomePackage`\n",
    "* `] instantiate`\n",
    "* `] activate`\n",
    "\n",
    "##### More details\n",
    "\n",
    "To learn more, check out the following:\n",
    "\n",
    "* [Pkg3 The new Julia package manager ](https://www.youtube.com/watch?v=HgFmiT5p0zU)\n",
    "* [Pkg, Project.toml, Manifest.toml and Environments](https://www.youtube.com/watch?v=q-LV4zoxc-E)\n",
    "* [Julia documentation](https://docs.julialang.org/en/v1/stdlib/Pkg/#)"
   ]
  },
  {
   "cell_type": "markdown",
   "metadata": {},
   "source": [
    "## Binary dependencies\n",
    "\n",
    "Next to managing dependencies on packages written in the Julia languages, the Julia registry also features support for tracking dependencies on **arbitrary data** including **compiled third-party code** in a platform-agnostic way (a bit like Conda).\n",
    "\n",
    "Based on the [Julia Artifacts](https://pkgdocs.julialang.org/dev/artifacts/) system, arbitary data can be added to projects and packages. Based on this mechanism [JuliaBinaryWrappers](https://github.com/JuliaBinaryWrappers) provide an infrastructure for **versioned binary dependencies** in the form of special JLL packages. Beyond being a wrapper to automatically download matching binaries (for project, operating system, CPU etc.) JLL packages provide no further functionality. But this means by adding JLL packages to your project you can state and track binary dependencies as usual.\n",
    "\n",
    "**Examples:** [OpenBLAS_jll.jl](https://github.com/JuliaBinaryWrappers/OpenBLAS_jll.jl) (provides the shared library `libopenblas`) or [CUDA_jll](https://github.com/JuliaBinaryWrappers/CUDA_jll.jl)."
   ]
  },
  {
   "cell_type": "code",
   "execution_count": null,
   "metadata": {},
   "outputs": [],
   "source": [
    "using OpenBLAS_jll"
   ]
  },
  {
   "cell_type": "code",
   "execution_count": null,
   "metadata": {},
   "outputs": [],
   "source": [
    "OpenBLAS_jll.libopenblas"
   ]
  },
  {
   "cell_type": "code",
   "execution_count": null,
   "metadata": {},
   "outputs": [],
   "source": [
    "using Libdl"
   ]
  },
  {
   "cell_type": "code",
   "execution_count": null,
   "metadata": {},
   "outputs": [],
   "source": [
    "dlopen(OpenBLAS_jll.libopenblas) do lib\n",
    "    dlsym(lib, :ddot_64_)\n",
    "end"
   ]
  },
  {
   "cell_type": "markdown",
   "metadata": {},
   "source": [
    "Adding new binary packages to the Julia registry is (relatively) straightforward. See the following packages for more information:\n",
    "* [BinaryBuilder](https://github.com/JuliaPackaging/BinaryBuilder.jl): Tools for building binary packages, e.g. support for cross-compiling them in a sandbox\n",
    "* [Yggdrasil](https://github.com/JuliaPackaging/Yggdrasil): Community-managed recepies for building binary packages with BinaryBuilder.\n",
    "* [JuliaBinaryWrappers](https://github.com/JuliaBinaryWrappers): Organisation managing final JLL Final Julia packages that wrap binary dependencies."
   ]
  },
  {
   "cell_type": "markdown",
   "metadata": {},
   "source": [
    "### Short demo\n",
    "\n",
    "Reusing environments on a cluster"
   ]
  },
  {
   "cell_type": "markdown",
   "metadata": {},
   "source": [
    "## Takeaways\n",
    "\n",
    "* Storing the package environment next to code makes code reproducible. It's only a `] activate .` and a couple of `] add`s away.\n",
    "* `] instantiate` can be used to get all the packages of an environment\n",
    "* JLL packages provide binary dependencies in a simple and reliable way."
   ]
  }
 ],
 "metadata": {
  "@webio": {
   "lastCommId": null,
   "lastKernelId": null
  },
  "kernelspec": {
   "display_name": "Julia (4 threads) 1.8.1",
   "language": "julia",
   "name": "julia-(4-threads)-1.8"
  },
  "language_info": {
   "file_extension": ".jl",
   "mimetype": "application/julia",
   "name": "julia",
   "version": "1.8.1"
  }
 },
 "nbformat": 4,
 "nbformat_minor": 4
}
