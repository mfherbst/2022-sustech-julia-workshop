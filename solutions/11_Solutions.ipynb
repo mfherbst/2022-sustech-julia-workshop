{
 "cells": [
  {
   "cell_type": "markdown",
   "id": "c0ea3e7a",
   "metadata": {},
   "source": [
    "# [12_Types_Specialisation](../12_Types_Specialisation.ipynb)\n",
    "\n",
    "1. It only needs to store the length and the position of the one-bit.\n",
    "\n",
    "2. A possible definition of the type is:"
   ]
  },
  {
   "cell_type": "code",
   "execution_count": null,
   "id": "8bfeaf11",
   "metadata": {},
   "outputs": [],
   "source": [
    "struct OneHot\n",
    "    len::Int  # Length\n",
    "    ind::Int  # Index of the one-bit\n",
    "end "
   ]
  },
  {
   "cell_type": "markdown",
   "id": "352fb8ba",
   "metadata": {},
   "source": [
    "3. To support the indicated piece of code we need the following functions frome base:"
   ]
  },
  {
   "cell_type": "code",
   "execution_count": null,
   "id": "2457ffe0",
   "metadata": {},
   "outputs": [],
   "source": [
    "import Base: *, getindex, length\n",
    "\n",
    "length(v::OneHot) = v.len\n",
    "getindex(v::OneHot, i::Int) = i == v.ind\n",
    "*(A::AbstractMatrix, v::OneHot) = A[:, v.ind]"
   ]
  },
  {
   "cell_type": "markdown",
   "id": "edab8598",
   "metadata": {},
   "source": [
    "4. We benchmark the `innersum` for both indicated cases:"
   ]
  },
  {
   "cell_type": "code",
   "execution_count": null,
   "id": "86ed1abe",
   "metadata": {},
   "outputs": [],
   "source": [
    "function innersum(A, vs)\n",
    "    t = zero(eltype(A))\n",
    "    for v in vs\n",
    "        y = A * v\n",
    "        for i in 1:length(vs[1])\n",
    "            t += v[i] * y[i]\n",
    "        end\n",
    "    end\n",
    "    t\n",
    "end"
   ]
  },
  {
   "cell_type": "code",
   "execution_count": null,
   "id": "cab1a5b8",
   "metadata": {},
   "outputs": [],
   "source": [
    "using BenchmarkTools\n",
    "A = rand(3, 3)\n",
    "vs_float  = [rand(3)              for i in 1:10]\n",
    "vs_onehot = [OneHot(3, rand(1:3)) for _ in 1:10]\n",
    "\n",
    "@btime innersum($A, $vs_float);\n",
    "@btime innersum($A, $vs_onehot);"
   ]
  },
  {
   "cell_type": "markdown",
   "id": "13a47ed7",
   "metadata": {},
   "source": [
    "In my benchmarks the speedup is about a factor of 2."
   ]
  },
  {
   "cell_type": "markdown",
   "id": "ac4774d6",
   "metadata": {},
   "source": [
    "5. One way to define the `OneHotVector`:"
   ]
  },
  {
   "cell_type": "code",
   "execution_count": null,
   "id": "70905276",
   "metadata": {},
   "outputs": [],
   "source": [
    "struct OneHotVector <: AbstractVector{Bool}\n",
    "    len::Int\n",
    "    ind::Int\n",
    "end\n",
    "\n",
    "Base.getindex(v::OneHotVector, i::Integer) = i == v.ind\n",
    "Base.size(v::OneHotVector) = (v.len, )"
   ]
  },
  {
   "cell_type": "markdown",
   "id": "9eb121ff",
   "metadata": {},
   "source": [
    "6. Creating a single vector works ..."
   ]
  },
  {
   "cell_type": "code",
   "execution_count": null,
   "id": "0f999f7b",
   "metadata": {},
   "outputs": [],
   "source": [
    "OneHotVector(5, 3)"
   ]
  },
  {
   "cell_type": "markdown",
   "id": "4433a5ad",
   "metadata": {},
   "source": [
    "... and gives us a nice visualisation. Also, without any additional effort, the `innersum` just works:"
   ]
  },
  {
   "cell_type": "code",
   "execution_count": null,
   "id": "ae7f1e09",
   "metadata": {},
   "outputs": [],
   "source": [
    "A  = rand(3, 3)\n",
    "vs = [OneHotVector(3, rand(1:3)) for _ in 1:10]\n",
    "\n",
    "innersum(A, vs)"
   ]
  },
  {
   "cell_type": "markdown",
   "id": "d31afc93",
   "metadata": {},
   "source": [
    "# [14_Exploring_Algorithmic_Differentiation](../14_Exploring_Algorithmic_Differentiation.ipynb)"
   ]
  },
  {
   "cell_type": "markdown",
   "id": "716eb88e",
   "metadata": {},
   "source": [
    "1. Confirm that `babylonian_sqrt` converges to $\\sqrt{x}$ by comparing it with Julia's standard `sqrt` function. As a reference compute `sqrt(big\"2.0\")`, then compute `sqrt_babylonian` for `N=1` to `N=10`.\n",
    "    * What is the error of `babylonian_sqrt` against the reference in each case?\n",
    "    * Plot the absolute error (note the `abs` function) on a semilog scale versus `N` (use the `Plots` package and pass the kwarg `yaxis=:log` to the `plot` function)\n",
    "    * Does increasing `N` reduce the error?\n",
    "    * How can you get a more accurate answer without changing the implementation of `babylonian_sqrt`?\n",
    "    * Why is `sqrt(big\"2.0\")` a good reference in the first place?"
   ]
  },
  {
   "cell_type": "code",
   "execution_count": 1,
   "id": "0d7422a6",
   "metadata": {},
   "outputs": [
    {
     "data": {
      "text/plain": [
       "babylonian_sqrt (generic function with 1 method)"
      ]
     },
     "execution_count": 1,
     "metadata": {},
     "output_type": "execute_result"
    }
   ],
   "source": [
    "function babylonian_sqrt(x; N=10)\n",
    "    t = (1 + x) / 2\n",
    "    for i = 2:N\n",
    "        t = (t + x / t) / 2\n",
    "    end\n",
    "    t\n",
    "end"
   ]
  },
  {
   "cell_type": "code",
   "execution_count": 14,
   "id": "d05e2f12",
   "metadata": {},
   "outputs": [
    {
     "data": {
      "image/svg+xml": [
       "<?xml version=\"1.0\" encoding=\"utf-8\"?>\n",
       "<svg xmlns=\"http://www.w3.org/2000/svg\" xmlns:xlink=\"http://www.w3.org/1999/xlink\" width=\"600\" height=\"400\" viewBox=\"0 0 2400 1600\">\n",
       "<defs>\n",
       "  <clipPath id=\"clip020\">\n",
       "    <rect x=\"0\" y=\"0\" width=\"2400\" height=\"1600\"/>\n",
       "  </clipPath>\n",
       "</defs>\n",
       "<path clip-path=\"url(#clip020)\" d=\"\n",
       "M0 1600 L2400 1600 L2400 0 L0 0  Z\n",
       "  \" fill=\"#ffffff\" fill-rule=\"evenodd\" fill-opacity=\"1\"/>\n",
       "<defs>\n",
       "  <clipPath id=\"clip021\">\n",
       "    <rect x=\"480\" y=\"0\" width=\"1681\" height=\"1600\"/>\n",
       "  </clipPath>\n",
       "</defs>\n",
       "<path clip-path=\"url(#clip020)\" d=\"\n",
       "M213.607 1486.45 L2352.76 1486.45 L2352.76 47.2441 L213.607 47.2441  Z\n",
       "  \" fill=\"#ffffff\" fill-rule=\"evenodd\" fill-opacity=\"1\"/>\n",
       "<defs>\n",
       "  <clipPath id=\"clip022\">\n",
       "    <rect x=\"213\" y=\"47\" width=\"2140\" height=\"1440\"/>\n",
       "  </clipPath>\n",
       "</defs>\n",
       "<polyline clip-path=\"url(#clip022)\" style=\"stroke:#000000; stroke-linecap:round; stroke-linejoin:round; stroke-width:2; stroke-opacity:0.1; fill:none\" points=\"\n",
       "  418.297,1486.45 418.297,47.2441 \n",
       "  \"/>\n",
       "<polyline clip-path=\"url(#clip022)\" style=\"stroke:#000000; stroke-linecap:round; stroke-linejoin:round; stroke-width:2; stroke-opacity:0.1; fill:none\" points=\"\n",
       "  706.592,1486.45 706.592,47.2441 \n",
       "  \"/>\n",
       "<polyline clip-path=\"url(#clip022)\" style=\"stroke:#000000; stroke-linecap:round; stroke-linejoin:round; stroke-width:2; stroke-opacity:0.1; fill:none\" points=\"\n",
       "  994.887,1486.45 994.887,47.2441 \n",
       "  \"/>\n",
       "<polyline clip-path=\"url(#clip022)\" style=\"stroke:#000000; stroke-linecap:round; stroke-linejoin:round; stroke-width:2; stroke-opacity:0.1; fill:none\" points=\"\n",
       "  1283.18,1486.45 1283.18,47.2441 \n",
       "  \"/>\n",
       "<polyline clip-path=\"url(#clip022)\" style=\"stroke:#000000; stroke-linecap:round; stroke-linejoin:round; stroke-width:2; stroke-opacity:0.1; fill:none\" points=\"\n",
       "  1571.48,1486.45 1571.48,47.2441 \n",
       "  \"/>\n",
       "<polyline clip-path=\"url(#clip022)\" style=\"stroke:#000000; stroke-linecap:round; stroke-linejoin:round; stroke-width:2; stroke-opacity:0.1; fill:none\" points=\"\n",
       "  1859.77,1486.45 1859.77,47.2441 \n",
       "  \"/>\n",
       "<polyline clip-path=\"url(#clip022)\" style=\"stroke:#000000; stroke-linecap:round; stroke-linejoin:round; stroke-width:2; stroke-opacity:0.1; fill:none\" points=\"\n",
       "  2148.07,1486.45 2148.07,47.2441 \n",
       "  \"/>\n",
       "<polyline clip-path=\"url(#clip020)\" style=\"stroke:#000000; stroke-linecap:round; stroke-linejoin:round; stroke-width:4; stroke-opacity:1; fill:none\" points=\"\n",
       "  213.607,1486.45 2352.76,1486.45 \n",
       "  \"/>\n",
       "<polyline clip-path=\"url(#clip020)\" style=\"stroke:#000000; stroke-linecap:round; stroke-linejoin:round; stroke-width:4; stroke-opacity:1; fill:none\" points=\"\n",
       "  418.297,1486.45 418.297,1467.55 \n",
       "  \"/>\n",
       "<polyline clip-path=\"url(#clip020)\" style=\"stroke:#000000; stroke-linecap:round; stroke-linejoin:round; stroke-width:4; stroke-opacity:1; fill:none\" points=\"\n",
       "  706.592,1486.45 706.592,1467.55 \n",
       "  \"/>\n",
       "<polyline clip-path=\"url(#clip020)\" style=\"stroke:#000000; stroke-linecap:round; stroke-linejoin:round; stroke-width:4; stroke-opacity:1; fill:none\" points=\"\n",
       "  994.887,1486.45 994.887,1467.55 \n",
       "  \"/>\n",
       "<polyline clip-path=\"url(#clip020)\" style=\"stroke:#000000; stroke-linecap:round; stroke-linejoin:round; stroke-width:4; stroke-opacity:1; fill:none\" points=\"\n",
       "  1283.18,1486.45 1283.18,1467.55 \n",
       "  \"/>\n",
       "<polyline clip-path=\"url(#clip020)\" style=\"stroke:#000000; stroke-linecap:round; stroke-linejoin:round; stroke-width:4; stroke-opacity:1; fill:none\" points=\"\n",
       "  1571.48,1486.45 1571.48,1467.55 \n",
       "  \"/>\n",
       "<polyline clip-path=\"url(#clip020)\" style=\"stroke:#000000; stroke-linecap:round; stroke-linejoin:round; stroke-width:4; stroke-opacity:1; fill:none\" points=\"\n",
       "  1859.77,1486.45 1859.77,1467.55 \n",
       "  \"/>\n",
       "<polyline clip-path=\"url(#clip020)\" style=\"stroke:#000000; stroke-linecap:round; stroke-linejoin:round; stroke-width:4; stroke-opacity:1; fill:none\" points=\"\n",
       "  2148.07,1486.45 2148.07,1467.55 \n",
       "  \"/>\n",
       "<path clip-path=\"url(#clip020)\" d=\"M412.95 1544.91 L429.269 1544.91 L429.269 1548.85 L407.325 1548.85 L407.325 1544.91 Q409.987 1542.16 414.57 1537.53 Q419.177 1532.88 420.357 1531.53 Q422.602 1529.01 423.482 1527.27 Q424.385 1525.51 424.385 1523.82 Q424.385 1521.07 422.44 1519.33 Q420.519 1517.6 417.417 1517.6 Q415.218 1517.6 412.765 1518.36 Q410.334 1519.13 407.556 1520.68 L407.556 1515.95 Q410.38 1514.82 412.834 1514.24 Q415.288 1513.66 417.325 1513.66 Q422.695 1513.66 425.889 1516.35 Q429.084 1519.03 429.084 1523.52 Q429.084 1525.65 428.274 1527.57 Q427.487 1529.47 425.38 1532.07 Q424.801 1532.74 421.7 1535.95 Q418.598 1539.15 412.95 1544.91 Z\" fill=\"#000000\" fill-rule=\"evenodd\" fill-opacity=\"1\" /><path clip-path=\"url(#clip020)\" d=\"M709.601 1518.36 L697.796 1536.81 L709.601 1536.81 L709.601 1518.36 M708.374 1514.29 L714.254 1514.29 L714.254 1536.81 L719.184 1536.81 L719.184 1540.7 L714.254 1540.7 L714.254 1548.85 L709.601 1548.85 L709.601 1540.7 L693.999 1540.7 L693.999 1536.19 L708.374 1514.29 Z\" fill=\"#000000\" fill-rule=\"evenodd\" fill-opacity=\"1\" /><path clip-path=\"url(#clip020)\" d=\"M995.292 1529.7 Q992.144 1529.7 990.292 1531.86 Q988.463 1534.01 988.463 1537.76 Q988.463 1541.49 990.292 1543.66 Q992.144 1545.82 995.292 1545.82 Q998.44 1545.82 1000.27 1543.66 Q1002.12 1541.49 1002.12 1537.76 Q1002.12 1534.01 1000.27 1531.86 Q998.44 1529.7 995.292 1529.7 M1004.57 1515.05 L1004.57 1519.31 Q1002.81 1518.48 1001.01 1518.04 Q999.227 1517.6 997.468 1517.6 Q992.838 1517.6 990.384 1520.72 Q987.954 1523.85 987.607 1530.17 Q988.972 1528.15 991.033 1527.09 Q993.093 1526 995.57 1526 Q1000.78 1526 1003.79 1529.17 Q1006.82 1532.32 1006.82 1537.76 Q1006.82 1543.08 1003.67 1546.3 Q1000.52 1549.52 995.292 1549.52 Q989.297 1549.52 986.125 1544.94 Q982.954 1540.33 982.954 1531.6 Q982.954 1523.41 986.843 1518.55 Q990.732 1513.66 997.283 1513.66 Q999.042 1513.66 1000.82 1514.01 Q1002.63 1514.36 1004.57 1515.05 Z\" fill=\"#000000\" fill-rule=\"evenodd\" fill-opacity=\"1\" /><path clip-path=\"url(#clip020)\" d=\"M1283.18 1532.44 Q1279.85 1532.44 1277.93 1534.22 Q1276.03 1536 1276.03 1539.13 Q1276.03 1542.25 1277.93 1544.03 Q1279.85 1545.82 1283.18 1545.82 Q1286.52 1545.82 1288.44 1544.03 Q1290.36 1542.23 1290.36 1539.13 Q1290.36 1536 1288.44 1534.22 Q1286.54 1532.44 1283.18 1532.44 M1278.51 1530.45 Q1275.5 1529.7 1273.81 1527.64 Q1272.14 1525.58 1272.14 1522.62 Q1272.14 1518.48 1275.08 1516.07 Q1278.04 1513.66 1283.18 1513.66 Q1288.34 1513.66 1291.28 1516.07 Q1294.22 1518.48 1294.22 1522.62 Q1294.22 1525.58 1292.53 1527.64 Q1290.87 1529.7 1287.88 1530.45 Q1291.26 1531.23 1293.14 1533.52 Q1295.03 1535.82 1295.03 1539.13 Q1295.03 1544.15 1291.95 1546.83 Q1288.9 1549.52 1283.18 1549.52 Q1277.46 1549.52 1274.39 1546.83 Q1271.33 1544.15 1271.33 1539.13 Q1271.33 1535.82 1273.23 1533.52 Q1275.13 1531.23 1278.51 1530.45 M1276.79 1523.06 Q1276.79 1525.75 1278.46 1527.25 Q1280.15 1528.76 1283.18 1528.76 Q1286.19 1528.76 1287.88 1527.25 Q1289.59 1525.75 1289.59 1523.06 Q1289.59 1520.38 1287.88 1518.87 Q1286.19 1517.37 1283.18 1517.37 Q1280.15 1517.37 1278.46 1518.87 Q1276.79 1520.38 1276.79 1523.06 Z\" fill=\"#000000\" fill-rule=\"evenodd\" fill-opacity=\"1\" /><path clip-path=\"url(#clip020)\" d=\"M1546.16 1544.91 L1553.8 1544.91 L1553.8 1518.55 L1545.49 1520.21 L1545.49 1515.95 L1553.76 1514.29 L1558.43 1514.29 L1558.43 1544.91 L1566.07 1544.91 L1566.07 1548.85 L1546.16 1548.85 L1546.16 1544.91 Z\" fill=\"#000000\" fill-rule=\"evenodd\" fill-opacity=\"1\" /><path clip-path=\"url(#clip020)\" d=\"M1585.52 1517.37 Q1581.9 1517.37 1580.08 1520.93 Q1578.27 1524.47 1578.27 1531.6 Q1578.27 1538.71 1580.08 1542.27 Q1581.9 1545.82 1585.52 1545.82 Q1589.15 1545.82 1590.96 1542.27 Q1592.78 1538.71 1592.78 1531.6 Q1592.78 1524.47 1590.96 1520.93 Q1589.15 1517.37 1585.52 1517.37 M1585.52 1513.66 Q1591.33 1513.66 1594.38 1518.27 Q1597.46 1522.85 1597.46 1531.6 Q1597.46 1540.33 1594.38 1544.94 Q1591.33 1549.52 1585.52 1549.52 Q1579.71 1549.52 1576.63 1544.94 Q1573.57 1540.33 1573.57 1531.6 Q1573.57 1522.85 1576.63 1518.27 Q1579.71 1513.66 1585.52 1513.66 Z\" fill=\"#000000\" fill-rule=\"evenodd\" fill-opacity=\"1\" /><path clip-path=\"url(#clip020)\" d=\"M1835.26 1544.91 L1842.9 1544.91 L1842.9 1518.55 L1834.59 1520.21 L1834.59 1515.95 L1842.85 1514.29 L1847.53 1514.29 L1847.53 1544.91 L1855.17 1544.91 L1855.17 1548.85 L1835.26 1548.85 L1835.26 1544.91 Z\" fill=\"#000000\" fill-rule=\"evenodd\" fill-opacity=\"1\" /><path clip-path=\"url(#clip020)\" d=\"M1868.64 1544.91 L1884.96 1544.91 L1884.96 1548.85 L1863.01 1548.85 L1863.01 1544.91 Q1865.67 1542.16 1870.26 1537.53 Q1874.86 1532.88 1876.04 1531.53 Q1878.29 1529.01 1879.17 1527.27 Q1880.07 1525.51 1880.07 1523.82 Q1880.07 1521.07 1878.13 1519.33 Q1876.21 1517.6 1873.1 1517.6 Q1870.91 1517.6 1868.45 1518.36 Q1866.02 1519.13 1863.24 1520.68 L1863.24 1515.95 Q1866.07 1514.82 1868.52 1514.24 Q1870.98 1513.66 1873.01 1513.66 Q1878.38 1513.66 1881.58 1516.35 Q1884.77 1519.03 1884.77 1523.52 Q1884.77 1525.65 1883.96 1527.57 Q1883.17 1529.47 1881.07 1532.07 Q1880.49 1532.74 1877.39 1535.95 Q1874.29 1539.15 1868.64 1544.91 Z\" fill=\"#000000\" fill-rule=\"evenodd\" fill-opacity=\"1\" /><path clip-path=\"url(#clip020)\" d=\"M2122.51 1544.91 L2130.15 1544.91 L2130.15 1518.55 L2121.84 1520.21 L2121.84 1515.95 L2130.1 1514.29 L2134.78 1514.29 L2134.78 1544.91 L2142.42 1544.91 L2142.42 1548.85 L2122.51 1548.85 L2122.51 1544.91 Z\" fill=\"#000000\" fill-rule=\"evenodd\" fill-opacity=\"1\" /><path clip-path=\"url(#clip020)\" d=\"M2164.71 1518.36 L2152.9 1536.81 L2164.71 1536.81 L2164.71 1518.36 M2163.48 1514.29 L2169.36 1514.29 L2169.36 1536.81 L2174.29 1536.81 L2174.29 1540.7 L2169.36 1540.7 L2169.36 1548.85 L2164.71 1548.85 L2164.71 1540.7 L2149.11 1540.7 L2149.11 1536.19 L2163.48 1514.29 Z\" fill=\"#000000\" fill-rule=\"evenodd\" fill-opacity=\"1\" /><polyline clip-path=\"url(#clip022)\" style=\"stroke:#000000; stroke-linecap:round; stroke-linejoin:round; stroke-width:2; stroke-opacity:0.1; fill:none\" points=\"\n",
       "  213.607,965.681 2352.76,965.681 \n",
       "  \"/>\n",
       "<polyline clip-path=\"url(#clip022)\" style=\"stroke:#000000; stroke-linecap:round; stroke-linejoin:round; stroke-width:2; stroke-opacity:0.1; fill:none\" points=\"\n",
       "  213.607,68.8453 2352.76,68.8453 \n",
       "  \"/>\n",
       "<polyline clip-path=\"url(#clip020)\" style=\"stroke:#000000; stroke-linecap:round; stroke-linejoin:round; stroke-width:4; stroke-opacity:1; fill:none\" points=\"\n",
       "  213.607,1486.45 213.607,47.2441 \n",
       "  \"/>\n",
       "<polyline clip-path=\"url(#clip020)\" style=\"stroke:#000000; stroke-linecap:round; stroke-linejoin:round; stroke-width:4; stroke-opacity:1; fill:none\" points=\"\n",
       "  213.607,965.681 232.505,965.681 \n",
       "  \"/>\n",
       "<polyline clip-path=\"url(#clip020)\" style=\"stroke:#000000; stroke-linecap:round; stroke-linejoin:round; stroke-width:4; stroke-opacity:1; fill:none\" points=\"\n",
       "  213.607,68.8453 232.505,68.8453 \n",
       "  \"/>\n",
       "<path clip-path=\"url(#clip020)\" d=\"M51.6634 985.474 L59.3023 985.474 L59.3023 959.108 L50.9921 960.775 L50.9921 956.516 L59.256 954.849 L63.9319 954.849 L63.9319 985.474 L71.5707 985.474 L71.5707 989.409 L51.6634 989.409 L51.6634 985.474 Z\" fill=\"#000000\" fill-rule=\"evenodd\" fill-opacity=\"1\" /><path clip-path=\"url(#clip020)\" d=\"M91.0151 957.928 Q87.404 957.928 85.5753 961.493 Q83.7697 965.034 83.7697 972.164 Q83.7697 979.27 85.5753 982.835 Q87.404 986.377 91.0151 986.377 Q94.6493 986.377 96.4548 982.835 Q98.2835 979.27 98.2835 972.164 Q98.2835 965.034 96.4548 961.493 Q94.6493 957.928 91.0151 957.928 M91.0151 954.224 Q96.8252 954.224 99.8808 958.831 Q102.959 963.414 102.959 972.164 Q102.959 980.891 99.8808 985.497 Q96.8252 990.08 91.0151 990.08 Q85.2049 990.08 82.1262 985.497 Q79.0707 980.891 79.0707 972.164 Q79.0707 963.414 82.1262 958.831 Q85.2049 954.224 91.0151 954.224 Z\" fill=\"#000000\" fill-rule=\"evenodd\" fill-opacity=\"1\" /><path clip-path=\"url(#clip020)\" d=\"M102.959 948.325 L127.071 948.325 L127.071 951.523 L102.959 951.523 L102.959 948.325 Z\" fill=\"#000000\" fill-rule=\"evenodd\" fill-opacity=\"1\" /><path clip-path=\"url(#clip020)\" d=\"M135.309 933.919 L150.223 933.919 L150.223 937.116 L138.788 937.116 L138.788 944 Q139.616 943.718 140.443 943.586 Q141.271 943.435 142.098 943.435 Q146.8 943.435 149.546 946.012 Q152.292 948.589 152.292 952.99 Q152.292 957.522 149.471 960.043 Q146.65 962.544 141.515 962.544 Q139.747 962.544 137.904 962.243 Q136.08 961.942 134.124 961.34 L134.124 957.522 Q135.817 958.444 137.622 958.895 Q139.428 959.347 141.44 959.347 Q144.694 959.347 146.593 957.635 Q148.493 955.924 148.493 952.99 Q148.493 950.056 146.593 948.344 Q144.694 946.633 141.44 946.633 Q139.917 946.633 138.393 946.971 Q136.889 947.31 135.309 948.024 L135.309 933.919 Z\" fill=\"#000000\" fill-rule=\"evenodd\" fill-opacity=\"1\" /><path clip-path=\"url(#clip020)\" d=\"M167.903 936.42 Q164.969 936.42 163.483 939.316 Q162.016 942.194 162.016 947.987 Q162.016 953.761 163.483 956.657 Q164.969 959.535 167.903 959.535 Q170.855 959.535 172.322 956.657 Q173.808 953.761 173.808 947.987 Q173.808 942.194 172.322 939.316 Q170.855 936.42 167.903 936.42 M167.903 933.411 Q172.623 933.411 175.106 937.154 Q177.607 940.878 177.607 947.987 Q177.607 955.077 175.106 958.82 Q172.623 962.544 167.903 962.544 Q163.182 962.544 160.68 958.82 Q158.198 955.077 158.198 947.987 Q158.198 940.878 160.68 937.154 Q163.182 933.411 167.903 933.411 Z\" fill=\"#000000\" fill-rule=\"evenodd\" fill-opacity=\"1\" /><path clip-path=\"url(#clip020)\" d=\"M106.902 88.6377 L114.541 88.6377 L114.541 62.2721 L106.231 63.9388 L106.231 59.6796 L114.494 58.0129 L119.17 58.0129 L119.17 88.6377 L126.809 88.6377 L126.809 92.5729 L106.902 92.5729 L106.902 88.6377 Z\" fill=\"#000000\" fill-rule=\"evenodd\" fill-opacity=\"1\" /><path clip-path=\"url(#clip020)\" d=\"M146.253 61.0916 Q142.642 61.0916 140.814 64.6564 Q139.008 68.198 139.008 75.3276 Q139.008 82.4341 140.814 85.9989 Q142.642 89.5405 146.253 89.5405 Q149.888 89.5405 151.693 85.9989 Q153.522 82.4341 153.522 75.3276 Q153.522 68.198 151.693 64.6564 Q149.888 61.0916 146.253 61.0916 M146.253 57.3879 Q152.064 57.3879 155.119 61.9944 Q158.198 66.5777 158.198 75.3276 Q158.198 84.0544 155.119 88.6609 Q152.064 93.2442 146.253 93.2442 Q140.443 93.2442 137.365 88.6609 Q134.309 84.0544 134.309 75.3276 Q134.309 66.5777 137.365 61.9944 Q140.443 57.3879 146.253 57.3879 Z\" fill=\"#000000\" fill-rule=\"evenodd\" fill-opacity=\"1\" /><path clip-path=\"url(#clip020)\" d=\"M167.903 39.5839 Q164.969 39.5839 163.483 42.4803 Q162.016 45.3579 162.016 51.1507 Q162.016 56.9247 163.483 59.8211 Q164.969 62.6987 167.903 62.6987 Q170.855 62.6987 172.322 59.8211 Q173.808 56.9247 173.808 51.1507 Q173.808 45.3579 172.322 42.4803 Q170.855 39.5839 167.903 39.5839 M167.903 36.5747 Q172.623 36.5747 175.106 40.3174 Q177.607 44.0414 177.607 51.1507 Q177.607 58.2412 175.106 61.984 Q172.623 65.7079 167.903 65.7079 Q163.182 65.7079 160.68 61.984 Q158.198 58.2412 158.198 51.1507 Q158.198 44.0414 160.68 40.3174 Q163.182 36.5747 167.903 36.5747 Z\" fill=\"#000000\" fill-rule=\"evenodd\" fill-opacity=\"1\" /><polyline clip-path=\"url(#clip022)\" style=\"stroke:#009af9; stroke-linecap:round; stroke-linejoin:round; stroke-width:4; stroke-opacity:1; fill:none\" points=\"\n",
       "  274.149,87.9763 418.297,115.665 562.444,170.598 706.592,280.45 850.739,500.154 994.887,939.561 1139.03,1445.72 1283.18,1445.72 1427.33,1445.72 1571.48,1445.72 \n",
       "  1715.62,1445.72 1859.77,1445.72 2003.92,1445.72 2148.07,1445.72 2292.21,1445.72 \n",
       "  \"/>\n",
       "<path clip-path=\"url(#clip020)\" d=\"\n",
       "M1677.4 198.898 L2281.45 198.898 L2281.45 95.2176 L1677.4 95.2176  Z\n",
       "  \" fill=\"#ffffff\" fill-rule=\"evenodd\" fill-opacity=\"1\"/>\n",
       "<polyline clip-path=\"url(#clip020)\" style=\"stroke:#000000; stroke-linecap:round; stroke-linejoin:round; stroke-width:4; stroke-opacity:1; fill:none\" points=\"\n",
       "  1677.4,198.898 2281.45,198.898 2281.45,95.2176 1677.4,95.2176 1677.4,198.898 \n",
       "  \"/>\n",
       "<polyline clip-path=\"url(#clip020)\" style=\"stroke:#009af9; stroke-linecap:round; stroke-linejoin:round; stroke-width:4; stroke-opacity:1; fill:none\" points=\"\n",
       "  1701.17,147.058 1843.78,147.058 \n",
       "  \"/>\n",
       "<path clip-path=\"url(#clip020)\" d=\"M1872.23 147.833 L1872.23 160.495 L1879.73 160.495 Q1883.5 160.495 1885.31 158.944 Q1887.13 157.37 1887.13 154.152 Q1887.13 150.912 1885.31 149.384 Q1883.5 147.833 1879.73 147.833 L1872.23 147.833 M1872.23 133.62 L1872.23 144.037 L1879.15 144.037 Q1882.57 144.037 1884.24 142.764 Q1885.93 141.467 1885.93 138.828 Q1885.93 136.213 1884.24 134.916 Q1882.57 133.62 1879.15 133.62 L1872.23 133.62 M1867.55 129.778 L1879.49 129.778 Q1884.84 129.778 1887.74 132 Q1890.63 134.222 1890.63 138.319 Q1890.63 141.49 1889.15 143.365 Q1887.67 145.24 1884.8 145.703 Q1888.24 146.444 1890.14 148.805 Q1892.06 151.143 1892.06 154.662 Q1892.06 159.291 1888.92 161.814 Q1885.77 164.338 1879.96 164.338 L1867.55 164.338 L1867.55 129.778 Z\" fill=\"#000000\" fill-rule=\"evenodd\" fill-opacity=\"1\" /><path clip-path=\"url(#clip020)\" d=\"M1911.67 151.305 Q1906.51 151.305 1904.52 152.486 Q1902.53 153.666 1902.53 156.514 Q1902.53 158.782 1904.01 160.125 Q1905.51 161.444 1908.08 161.444 Q1911.62 161.444 1913.75 158.944 Q1915.91 156.421 1915.91 152.254 L1915.91 151.305 L1911.67 151.305 M1920.17 149.546 L1920.17 164.338 L1915.91 164.338 L1915.91 160.402 Q1914.45 162.763 1912.27 163.898 Q1910.1 165.009 1906.95 165.009 Q1902.97 165.009 1900.61 162.787 Q1898.27 160.541 1898.27 156.791 Q1898.27 152.416 1901.18 150.194 Q1904.12 147.972 1909.93 147.972 L1915.91 147.972 L1915.91 147.555 Q1915.91 144.615 1913.96 143.018 Q1912.04 141.398 1908.55 141.398 Q1906.32 141.398 1904.22 141.93 Q1902.11 142.463 1900.17 143.527 L1900.17 139.592 Q1902.5 138.69 1904.7 138.25 Q1906.9 137.787 1908.99 137.787 Q1914.61 137.787 1917.39 140.703 Q1920.17 143.62 1920.17 149.546 Z\" fill=\"#000000\" fill-rule=\"evenodd\" fill-opacity=\"1\" /><path clip-path=\"url(#clip020)\" d=\"M1947.55 151.398 Q1947.55 146.699 1945.61 144.037 Q1943.68 141.352 1940.3 141.352 Q1936.93 141.352 1934.98 144.037 Q1933.06 146.699 1933.06 151.398 Q1933.06 156.097 1934.98 158.782 Q1936.93 161.444 1940.3 161.444 Q1943.68 161.444 1945.61 158.782 Q1947.55 156.097 1947.55 151.398 M1933.06 142.347 Q1934.4 140.032 1936.44 138.921 Q1938.5 137.787 1941.35 137.787 Q1946.07 137.787 1949.01 141.537 Q1951.97 145.287 1951.97 151.398 Q1951.97 157.509 1949.01 161.259 Q1946.07 165.009 1941.35 165.009 Q1938.5 165.009 1936.44 163.898 Q1934.4 162.763 1933.06 160.449 L1933.06 164.338 L1928.78 164.338 L1928.78 128.319 L1933.06 128.319 L1933.06 142.347 Z\" fill=\"#000000\" fill-rule=\"evenodd\" fill-opacity=\"1\" /><path clip-path=\"url(#clip020)\" d=\"M1969.82 166.745 Q1968.01 171.375 1966.3 172.787 Q1964.59 174.199 1961.72 174.199 L1958.31 174.199 L1958.31 170.634 L1960.81 170.634 Q1962.57 170.634 1963.55 169.8 Q1964.52 168.967 1965.7 165.865 L1966.46 163.921 L1955.98 138.412 L1960.49 138.412 L1968.59 158.689 L1976.69 138.412 L1981.21 138.412 L1969.82 166.745 Z\" fill=\"#000000\" fill-rule=\"evenodd\" fill-opacity=\"1\" /><path clip-path=\"url(#clip020)\" d=\"M1987.09 128.319 L1991.35 128.319 L1991.35 164.338 L1987.09 164.338 L1987.09 128.319 Z\" fill=\"#000000\" fill-rule=\"evenodd\" fill-opacity=\"1\" /><path clip-path=\"url(#clip020)\" d=\"M2010.3 141.398 Q2006.88 141.398 2004.89 144.083 Q2002.9 146.745 2002.9 151.398 Q2002.9 156.051 2004.86 158.736 Q2006.86 161.398 2010.3 161.398 Q2013.71 161.398 2015.7 158.713 Q2017.69 156.027 2017.69 151.398 Q2017.69 146.791 2015.7 144.106 Q2013.71 141.398 2010.3 141.398 M2010.3 137.787 Q2015.86 137.787 2019.03 141.398 Q2022.2 145.009 2022.2 151.398 Q2022.2 157.764 2019.03 161.398 Q2015.86 165.009 2010.3 165.009 Q2004.73 165.009 2001.55 161.398 Q1998.41 157.764 1998.41 151.398 Q1998.41 145.009 2001.55 141.398 Q2004.73 137.787 2010.3 137.787 Z\" fill=\"#000000\" fill-rule=\"evenodd\" fill-opacity=\"1\" /><path clip-path=\"url(#clip020)\" d=\"M2050.81 148.689 L2050.81 164.338 L2046.55 164.338 L2046.55 148.828 Q2046.55 145.148 2045.12 143.319 Q2043.68 141.49 2040.81 141.49 Q2037.36 141.49 2035.37 143.69 Q2033.38 145.889 2033.38 149.685 L2033.38 164.338 L2029.1 164.338 L2029.1 138.412 L2033.38 138.412 L2033.38 142.44 Q2034.91 140.102 2036.97 138.944 Q2039.05 137.787 2041.76 137.787 Q2046.23 137.787 2048.52 140.565 Q2050.81 143.319 2050.81 148.689 Z\" fill=\"#000000\" fill-rule=\"evenodd\" fill-opacity=\"1\" /><path clip-path=\"url(#clip020)\" d=\"M2059.31 138.412 L2063.57 138.412 L2063.57 164.338 L2059.31 164.338 L2059.31 138.412 M2059.31 128.319 L2063.57 128.319 L2063.57 133.713 L2059.31 133.713 L2059.31 128.319 Z\" fill=\"#000000\" fill-rule=\"evenodd\" fill-opacity=\"1\" /><path clip-path=\"url(#clip020)\" d=\"M2084.26 151.305 Q2079.1 151.305 2077.11 152.486 Q2075.12 153.666 2075.12 156.514 Q2075.12 158.782 2076.6 160.125 Q2078.1 161.444 2080.67 161.444 Q2084.22 161.444 2086.35 158.944 Q2088.5 156.421 2088.5 152.254 L2088.5 151.305 L2084.26 151.305 M2092.76 149.546 L2092.76 164.338 L2088.5 164.338 L2088.5 160.402 Q2087.04 162.763 2084.86 163.898 Q2082.69 165.009 2079.54 165.009 Q2075.56 165.009 2073.2 162.787 Q2070.86 160.541 2070.86 156.791 Q2070.86 152.416 2073.78 150.194 Q2076.72 147.972 2082.53 147.972 L2088.5 147.972 L2088.5 147.555 Q2088.5 144.615 2086.55 143.018 Q2084.63 141.398 2081.14 141.398 Q2078.92 141.398 2076.81 141.93 Q2074.7 142.463 2072.76 143.527 L2072.76 139.592 Q2075.1 138.69 2077.29 138.25 Q2079.49 137.787 2081.58 137.787 Q2087.2 137.787 2089.98 140.703 Q2092.76 143.62 2092.76 149.546 Z\" fill=\"#000000\" fill-rule=\"evenodd\" fill-opacity=\"1\" /><path clip-path=\"url(#clip020)\" d=\"M2123.08 148.689 L2123.08 164.338 L2118.82 164.338 L2118.82 148.828 Q2118.82 145.148 2117.39 143.319 Q2115.95 141.49 2113.08 141.49 Q2109.63 141.49 2107.64 143.69 Q2105.65 145.889 2105.65 149.685 L2105.65 164.338 L2101.37 164.338 L2101.37 138.412 L2105.65 138.412 L2105.65 142.44 Q2107.18 140.102 2109.24 138.944 Q2111.32 137.787 2114.03 137.787 Q2118.5 137.787 2120.79 140.565 Q2123.08 143.319 2123.08 148.689 Z\" fill=\"#000000\" fill-rule=\"evenodd\" fill-opacity=\"1\" /><path clip-path=\"url(#clip020)\" d=\"M2163.17 139.176 L2163.17 143.203 Q2161.37 142.277 2159.42 141.815 Q2157.48 141.352 2155.4 141.352 Q2152.22 141.352 2150.63 142.324 Q2149.05 143.296 2149.05 145.24 Q2149.05 146.722 2150.19 147.578 Q2151.32 148.412 2154.75 149.176 L2156.21 149.5 Q2160.74 150.472 2162.64 152.254 Q2164.56 154.014 2164.56 157.185 Q2164.56 160.796 2161.69 162.902 Q2158.85 165.009 2153.85 165.009 Q2151.76 165.009 2149.49 164.592 Q2147.25 164.199 2144.75 163.388 L2144.75 158.99 Q2147.11 160.217 2149.4 160.842 Q2151.69 161.444 2153.94 161.444 Q2156.95 161.444 2158.57 160.426 Q2160.19 159.384 2160.19 157.509 Q2160.19 155.773 2159.01 154.847 Q2157.85 153.921 2153.89 153.064 L2152.41 152.717 Q2148.45 151.884 2146.69 150.171 Q2144.93 148.435 2144.93 145.426 Q2144.93 141.768 2147.53 139.778 Q2150.12 137.787 2154.89 137.787 Q2157.25 137.787 2159.33 138.134 Q2161.41 138.481 2163.17 139.176 Z\" fill=\"#000000\" fill-rule=\"evenodd\" fill-opacity=\"1\" /><path clip-path=\"url(#clip020)\" d=\"M2173.89 151.398 Q2173.89 156.097 2175.81 158.782 Q2177.76 161.444 2181.14 161.444 Q2184.52 161.444 2186.46 158.782 Q2188.41 156.097 2188.41 151.398 Q2188.41 146.699 2186.46 144.037 Q2184.52 141.352 2181.14 141.352 Q2177.76 141.352 2175.81 144.037 Q2173.89 146.699 2173.89 151.398 M2188.41 160.449 Q2187.06 162.763 2185 163.898 Q2182.97 165.009 2180.1 165.009 Q2175.4 165.009 2172.43 161.259 Q2169.49 157.509 2169.49 151.398 Q2169.49 145.287 2172.43 141.537 Q2175.4 137.787 2180.1 137.787 Q2182.97 137.787 2185 138.921 Q2187.06 140.032 2188.41 142.347 L2188.41 138.412 L2192.66 138.412 L2192.66 174.199 L2188.41 174.199 L2188.41 160.449 Z\" fill=\"#000000\" fill-rule=\"evenodd\" fill-opacity=\"1\" /><path clip-path=\"url(#clip020)\" d=\"M2216.46 142.393 Q2215.74 141.977 2214.89 141.791 Q2214.05 141.583 2213.03 141.583 Q2209.42 141.583 2207.48 143.944 Q2205.56 146.282 2205.56 150.68 L2205.56 164.338 L2201.28 164.338 L2201.28 138.412 L2205.56 138.412 L2205.56 142.44 Q2206.9 140.078 2209.05 138.944 Q2211.21 137.787 2214.28 137.787 Q2214.72 137.787 2215.26 137.856 Q2215.79 137.903 2216.44 138.018 L2216.46 142.393 Z\" fill=\"#000000\" fill-rule=\"evenodd\" fill-opacity=\"1\" /><path clip-path=\"url(#clip020)\" d=\"M2225.14 131.051 L2225.14 138.412 L2233.91 138.412 L2233.91 141.722 L2225.14 141.722 L2225.14 155.796 Q2225.14 158.967 2226 159.87 Q2226.88 160.773 2229.54 160.773 L2233.91 160.773 L2233.91 164.338 L2229.54 164.338 Q2224.61 164.338 2222.73 162.509 Q2220.86 160.657 2220.86 155.796 L2220.86 141.722 L2217.73 141.722 L2217.73 138.412 L2220.86 138.412 L2220.86 131.051 L2225.14 131.051 Z\" fill=\"#000000\" fill-rule=\"evenodd\" fill-opacity=\"1\" /></svg>\n"
      ]
     },
     "execution_count": 14,
     "metadata": {},
     "output_type": "execute_result"
    }
   ],
   "source": [
    "using Plots\n",
    "\n",
    "Nmax = 15\n",
    "errors = [abs(babylonian_sqrt(big\"2.0\"; N) - sqrt(big\"2.0\")) for N in 1:Nmax]\n",
    "plot(1:Nmax, errors, label=\"Babylonian sqrt\", yaxis=:log)"
   ]
  },
  {
   "cell_type": "markdown",
   "id": "e1b5c799",
   "metadata": {},
   "source": [
    "2. Do the same thing as in 1., but using a different data type for the input number, try `Float16`, `Float32`, `Float64`, and `BigFloat` and again vary `N`. Plot the error against the reference for all data types in one plot (use the `plot!` function to add another plot to an existing canvas)."
   ]
  },
  {
   "cell_type": "code",
   "execution_count": 16,
   "id": "c1af9e03",
   "metadata": {},
   "outputs": [
    {
     "data": {
      "image/svg+xml": [
       "<?xml version=\"1.0\" encoding=\"utf-8\"?>\n",
       "<svg xmlns=\"http://www.w3.org/2000/svg\" xmlns:xlink=\"http://www.w3.org/1999/xlink\" width=\"600\" height=\"400\" viewBox=\"0 0 2400 1600\">\n",
       "<defs>\n",
       "  <clipPath id=\"clip100\">\n",
       "    <rect x=\"0\" y=\"0\" width=\"2400\" height=\"1600\"/>\n",
       "  </clipPath>\n",
       "</defs>\n",
       "<path clip-path=\"url(#clip100)\" d=\"\n",
       "M0 1600 L2400 1600 L2400 0 L0 0  Z\n",
       "  \" fill=\"#ffffff\" fill-rule=\"evenodd\" fill-opacity=\"1\"/>\n",
       "<defs>\n",
       "  <clipPath id=\"clip101\">\n",
       "    <rect x=\"480\" y=\"0\" width=\"1681\" height=\"1600\"/>\n",
       "  </clipPath>\n",
       "</defs>\n",
       "<path clip-path=\"url(#clip100)\" d=\"\n",
       "M213.607 1486.45 L2352.76 1486.45 L2352.76 47.2441 L213.607 47.2441  Z\n",
       "  \" fill=\"#ffffff\" fill-rule=\"evenodd\" fill-opacity=\"1\"/>\n",
       "<defs>\n",
       "  <clipPath id=\"clip102\">\n",
       "    <rect x=\"213\" y=\"47\" width=\"2140\" height=\"1440\"/>\n",
       "  </clipPath>\n",
       "</defs>\n",
       "<polyline clip-path=\"url(#clip102)\" style=\"stroke:#000000; stroke-linecap:round; stroke-linejoin:round; stroke-width:2; stroke-opacity:0.1; fill:none\" points=\"\n",
       "  498.379,1486.45 498.379,47.2441 \n",
       "  \"/>\n",
       "<polyline clip-path=\"url(#clip102)\" style=\"stroke:#000000; stroke-linecap:round; stroke-linejoin:round; stroke-width:2; stroke-opacity:0.1; fill:none\" points=\"\n",
       "  946.838,1486.45 946.838,47.2441 \n",
       "  \"/>\n",
       "<polyline clip-path=\"url(#clip102)\" style=\"stroke:#000000; stroke-linecap:round; stroke-linejoin:round; stroke-width:2; stroke-opacity:0.1; fill:none\" points=\"\n",
       "  1395.3,1486.45 1395.3,47.2441 \n",
       "  \"/>\n",
       "<polyline clip-path=\"url(#clip102)\" style=\"stroke:#000000; stroke-linecap:round; stroke-linejoin:round; stroke-width:2; stroke-opacity:0.1; fill:none\" points=\"\n",
       "  1843.76,1486.45 1843.76,47.2441 \n",
       "  \"/>\n",
       "<polyline clip-path=\"url(#clip102)\" style=\"stroke:#000000; stroke-linecap:round; stroke-linejoin:round; stroke-width:2; stroke-opacity:0.1; fill:none\" points=\"\n",
       "  2292.21,1486.45 2292.21,47.2441 \n",
       "  \"/>\n",
       "<polyline clip-path=\"url(#clip100)\" style=\"stroke:#000000; stroke-linecap:round; stroke-linejoin:round; stroke-width:4; stroke-opacity:1; fill:none\" points=\"\n",
       "  213.607,1486.45 2352.76,1486.45 \n",
       "  \"/>\n",
       "<polyline clip-path=\"url(#clip100)\" style=\"stroke:#000000; stroke-linecap:round; stroke-linejoin:round; stroke-width:4; stroke-opacity:1; fill:none\" points=\"\n",
       "  498.379,1486.45 498.379,1467.55 \n",
       "  \"/>\n",
       "<polyline clip-path=\"url(#clip100)\" style=\"stroke:#000000; stroke-linecap:round; stroke-linejoin:round; stroke-width:4; stroke-opacity:1; fill:none\" points=\"\n",
       "  946.838,1486.45 946.838,1467.55 \n",
       "  \"/>\n",
       "<polyline clip-path=\"url(#clip100)\" style=\"stroke:#000000; stroke-linecap:round; stroke-linejoin:round; stroke-width:4; stroke-opacity:1; fill:none\" points=\"\n",
       "  1395.3,1486.45 1395.3,1467.55 \n",
       "  \"/>\n",
       "<polyline clip-path=\"url(#clip100)\" style=\"stroke:#000000; stroke-linecap:round; stroke-linejoin:round; stroke-width:4; stroke-opacity:1; fill:none\" points=\"\n",
       "  1843.76,1486.45 1843.76,1467.55 \n",
       "  \"/>\n",
       "<polyline clip-path=\"url(#clip100)\" style=\"stroke:#000000; stroke-linecap:round; stroke-linejoin:round; stroke-width:4; stroke-opacity:1; fill:none\" points=\"\n",
       "  2292.21,1486.45 2292.21,1467.55 \n",
       "  \"/>\n",
       "<path clip-path=\"url(#clip100)\" d=\"M493.032 1544.91 L509.351 1544.91 L509.351 1548.85 L487.407 1548.85 L487.407 1544.91 Q490.069 1542.16 494.652 1537.53 Q499.258 1532.88 500.439 1531.53 Q502.684 1529.01 503.564 1527.27 Q504.467 1525.51 504.467 1523.82 Q504.467 1521.07 502.522 1519.33 Q500.601 1517.6 497.499 1517.6 Q495.3 1517.6 492.846 1518.36 Q490.416 1519.13 487.638 1520.68 L487.638 1515.95 Q490.462 1514.82 492.916 1514.24 Q495.37 1513.66 497.407 1513.66 Q502.777 1513.66 505.971 1516.35 Q509.166 1519.03 509.166 1523.52 Q509.166 1525.65 508.356 1527.57 Q507.569 1529.47 505.462 1532.07 Q504.883 1532.74 501.782 1535.95 Q498.68 1539.15 493.032 1544.91 Z\" fill=\"#000000\" fill-rule=\"evenodd\" fill-opacity=\"1\" /><path clip-path=\"url(#clip100)\" d=\"M949.847 1518.36 L938.041 1536.81 L949.847 1536.81 L949.847 1518.36 M948.62 1514.29 L954.5 1514.29 L954.5 1536.81 L959.43 1536.81 L959.43 1540.7 L954.5 1540.7 L954.5 1548.85 L949.847 1548.85 L949.847 1540.7 L934.245 1540.7 L934.245 1536.19 L948.62 1514.29 Z\" fill=\"#000000\" fill-rule=\"evenodd\" fill-opacity=\"1\" /><path clip-path=\"url(#clip100)\" d=\"M1395.7 1529.7 Q1392.55 1529.7 1390.7 1531.86 Q1388.87 1534.01 1388.87 1537.76 Q1388.87 1541.49 1390.7 1543.66 Q1392.55 1545.82 1395.7 1545.82 Q1398.85 1545.82 1400.68 1543.66 Q1402.53 1541.49 1402.53 1537.76 Q1402.53 1534.01 1400.68 1531.86 Q1398.85 1529.7 1395.7 1529.7 M1404.98 1515.05 L1404.98 1519.31 Q1403.22 1518.48 1401.42 1518.04 Q1399.64 1517.6 1397.88 1517.6 Q1393.25 1517.6 1390.79 1520.72 Q1388.36 1523.85 1388.02 1530.17 Q1389.38 1528.15 1391.44 1527.09 Q1393.5 1526 1395.98 1526 Q1401.19 1526 1404.2 1529.17 Q1407.23 1532.32 1407.23 1537.76 Q1407.23 1543.08 1404.08 1546.3 Q1400.93 1549.52 1395.7 1549.52 Q1389.71 1549.52 1386.53 1544.94 Q1383.36 1540.33 1383.36 1531.6 Q1383.36 1523.41 1387.25 1518.55 Q1391.14 1513.66 1397.69 1513.66 Q1399.45 1513.66 1401.23 1514.01 Q1403.04 1514.36 1404.98 1515.05 Z\" fill=\"#000000\" fill-rule=\"evenodd\" fill-opacity=\"1\" /><path clip-path=\"url(#clip100)\" d=\"M1843.76 1532.44 Q1840.42 1532.44 1838.5 1534.22 Q1836.6 1536 1836.6 1539.13 Q1836.6 1542.25 1838.5 1544.03 Q1840.42 1545.82 1843.76 1545.82 Q1847.09 1545.82 1849.01 1544.03 Q1850.93 1542.23 1850.93 1539.13 Q1850.93 1536 1849.01 1534.22 Q1847.11 1532.44 1843.76 1532.44 M1839.08 1530.45 Q1836.07 1529.7 1834.38 1527.64 Q1832.71 1525.58 1832.71 1522.62 Q1832.71 1518.48 1835.65 1516.07 Q1838.62 1513.66 1843.76 1513.66 Q1848.92 1513.66 1851.86 1516.07 Q1854.8 1518.48 1854.8 1522.62 Q1854.8 1525.58 1853.11 1527.64 Q1851.44 1529.7 1848.45 1530.45 Q1851.83 1531.23 1853.71 1533.52 Q1855.61 1535.82 1855.61 1539.13 Q1855.61 1544.15 1852.53 1546.83 Q1849.47 1549.52 1843.76 1549.52 Q1838.04 1549.52 1834.96 1546.83 Q1831.9 1544.15 1831.9 1539.13 Q1831.9 1535.82 1833.8 1533.52 Q1835.7 1531.23 1839.08 1530.45 M1837.37 1523.06 Q1837.37 1525.75 1839.03 1527.25 Q1840.72 1528.76 1843.76 1528.76 Q1846.76 1528.76 1848.45 1527.25 Q1850.17 1525.75 1850.17 1523.06 Q1850.17 1520.38 1848.45 1518.87 Q1846.76 1517.37 1843.76 1517.37 Q1840.72 1517.37 1839.03 1518.87 Q1837.37 1520.38 1837.37 1523.06 Z\" fill=\"#000000\" fill-rule=\"evenodd\" fill-opacity=\"1\" /><path clip-path=\"url(#clip100)\" d=\"M2266.9 1544.91 L2274.54 1544.91 L2274.54 1518.55 L2266.23 1520.21 L2266.23 1515.95 L2274.49 1514.29 L2279.17 1514.29 L2279.17 1544.91 L2286.81 1544.91 L2286.81 1548.85 L2266.9 1548.85 L2266.9 1544.91 Z\" fill=\"#000000\" fill-rule=\"evenodd\" fill-opacity=\"1\" /><path clip-path=\"url(#clip100)\" d=\"M2306.25 1517.37 Q2302.64 1517.37 2300.81 1520.93 Q2299.01 1524.47 2299.01 1531.6 Q2299.01 1538.71 2300.81 1542.27 Q2302.64 1545.82 2306.25 1545.82 Q2309.89 1545.82 2311.69 1542.27 Q2313.52 1538.71 2313.52 1531.6 Q2313.52 1524.47 2311.69 1520.93 Q2309.89 1517.37 2306.25 1517.37 M2306.25 1513.66 Q2312.06 1513.66 2315.12 1518.27 Q2318.2 1522.85 2318.2 1531.6 Q2318.2 1540.33 2315.12 1544.94 Q2312.06 1549.52 2306.25 1549.52 Q2300.44 1549.52 2297.36 1544.94 Q2294.31 1540.33 2294.31 1531.6 Q2294.31 1522.85 2297.36 1518.27 Q2300.44 1513.66 2306.25 1513.66 Z\" fill=\"#000000\" fill-rule=\"evenodd\" fill-opacity=\"1\" /><polyline clip-path=\"url(#clip102)\" style=\"stroke:#000000; stroke-linecap:round; stroke-linejoin:round; stroke-width:2; stroke-opacity:0.1; fill:none\" points=\"\n",
       "  213.607,965.681 2352.76,965.681 \n",
       "  \"/>\n",
       "<polyline clip-path=\"url(#clip102)\" style=\"stroke:#000000; stroke-linecap:round; stroke-linejoin:round; stroke-width:2; stroke-opacity:0.1; fill:none\" points=\"\n",
       "  213.607,68.8453 2352.76,68.8453 \n",
       "  \"/>\n",
       "<polyline clip-path=\"url(#clip100)\" style=\"stroke:#000000; stroke-linecap:round; stroke-linejoin:round; stroke-width:4; stroke-opacity:1; fill:none\" points=\"\n",
       "  213.607,1486.45 213.607,47.2441 \n",
       "  \"/>\n",
       "<polyline clip-path=\"url(#clip100)\" style=\"stroke:#000000; stroke-linecap:round; stroke-linejoin:round; stroke-width:4; stroke-opacity:1; fill:none\" points=\"\n",
       "  213.607,965.681 232.505,965.681 \n",
       "  \"/>\n",
       "<polyline clip-path=\"url(#clip100)\" style=\"stroke:#000000; stroke-linecap:round; stroke-linejoin:round; stroke-width:4; stroke-opacity:1; fill:none\" points=\"\n",
       "  213.607,68.8453 232.505,68.8453 \n",
       "  \"/>\n",
       "<path clip-path=\"url(#clip100)\" d=\"M51.6634 985.474 L59.3023 985.474 L59.3023 959.108 L50.9921 960.775 L50.9921 956.516 L59.256 954.849 L63.9319 954.849 L63.9319 985.474 L71.5707 985.474 L71.5707 989.409 L51.6634 989.409 L51.6634 985.474 Z\" fill=\"#000000\" fill-rule=\"evenodd\" fill-opacity=\"1\" /><path clip-path=\"url(#clip100)\" d=\"M91.0151 957.928 Q87.404 957.928 85.5753 961.493 Q83.7697 965.034 83.7697 972.164 Q83.7697 979.27 85.5753 982.835 Q87.404 986.377 91.0151 986.377 Q94.6493 986.377 96.4548 982.835 Q98.2835 979.27 98.2835 972.164 Q98.2835 965.034 96.4548 961.493 Q94.6493 957.928 91.0151 957.928 M91.0151 954.224 Q96.8252 954.224 99.8808 958.831 Q102.959 963.414 102.959 972.164 Q102.959 980.891 99.8808 985.497 Q96.8252 990.08 91.0151 990.08 Q85.2049 990.08 82.1262 985.497 Q79.0707 980.891 79.0707 972.164 Q79.0707 963.414 82.1262 958.831 Q85.2049 954.224 91.0151 954.224 Z\" fill=\"#000000\" fill-rule=\"evenodd\" fill-opacity=\"1\" /><path clip-path=\"url(#clip100)\" d=\"M102.959 948.325 L127.071 948.325 L127.071 951.523 L102.959 951.523 L102.959 948.325 Z\" fill=\"#000000\" fill-rule=\"evenodd\" fill-opacity=\"1\" /><path clip-path=\"url(#clip100)\" d=\"M135.309 933.919 L150.223 933.919 L150.223 937.116 L138.788 937.116 L138.788 944 Q139.616 943.718 140.443 943.586 Q141.271 943.435 142.098 943.435 Q146.8 943.435 149.546 946.012 Q152.292 948.589 152.292 952.99 Q152.292 957.522 149.471 960.043 Q146.65 962.544 141.515 962.544 Q139.747 962.544 137.904 962.243 Q136.08 961.942 134.124 961.34 L134.124 957.522 Q135.817 958.444 137.622 958.895 Q139.428 959.347 141.44 959.347 Q144.694 959.347 146.593 957.635 Q148.493 955.924 148.493 952.99 Q148.493 950.056 146.593 948.344 Q144.694 946.633 141.44 946.633 Q139.917 946.633 138.393 946.971 Q136.889 947.31 135.309 948.024 L135.309 933.919 Z\" fill=\"#000000\" fill-rule=\"evenodd\" fill-opacity=\"1\" /><path clip-path=\"url(#clip100)\" d=\"M167.903 936.42 Q164.969 936.42 163.483 939.316 Q162.016 942.194 162.016 947.987 Q162.016 953.761 163.483 956.657 Q164.969 959.535 167.903 959.535 Q170.855 959.535 172.322 956.657 Q173.808 953.761 173.808 947.987 Q173.808 942.194 172.322 939.316 Q170.855 936.42 167.903 936.42 M167.903 933.411 Q172.623 933.411 175.106 937.154 Q177.607 940.878 177.607 947.987 Q177.607 955.077 175.106 958.82 Q172.623 962.544 167.903 962.544 Q163.182 962.544 160.68 958.82 Q158.198 955.077 158.198 947.987 Q158.198 940.878 160.68 937.154 Q163.182 933.411 167.903 933.411 Z\" fill=\"#000000\" fill-rule=\"evenodd\" fill-opacity=\"1\" /><path clip-path=\"url(#clip100)\" d=\"M106.902 88.6377 L114.541 88.6377 L114.541 62.2721 L106.231 63.9388 L106.231 59.6796 L114.494 58.0129 L119.17 58.0129 L119.17 88.6377 L126.809 88.6377 L126.809 92.5729 L106.902 92.5729 L106.902 88.6377 Z\" fill=\"#000000\" fill-rule=\"evenodd\" fill-opacity=\"1\" /><path clip-path=\"url(#clip100)\" d=\"M146.253 61.0916 Q142.642 61.0916 140.814 64.6564 Q139.008 68.198 139.008 75.3276 Q139.008 82.4341 140.814 85.9989 Q142.642 89.5405 146.253 89.5405 Q149.888 89.5405 151.693 85.9989 Q153.522 82.4341 153.522 75.3276 Q153.522 68.198 151.693 64.6564 Q149.888 61.0916 146.253 61.0916 M146.253 57.3879 Q152.064 57.3879 155.119 61.9944 Q158.198 66.5777 158.198 75.3276 Q158.198 84.0544 155.119 88.6609 Q152.064 93.2442 146.253 93.2442 Q140.443 93.2442 137.365 88.6609 Q134.309 84.0544 134.309 75.3276 Q134.309 66.5777 137.365 61.9944 Q140.443 57.3879 146.253 57.3879 Z\" fill=\"#000000\" fill-rule=\"evenodd\" fill-opacity=\"1\" /><path clip-path=\"url(#clip100)\" d=\"M167.903 39.5839 Q164.969 39.5839 163.483 42.4803 Q162.016 45.3579 162.016 51.1507 Q162.016 56.9247 163.483 59.8211 Q164.969 62.6987 167.903 62.6987 Q170.855 62.6987 172.322 59.8211 Q173.808 56.9247 173.808 51.1507 Q173.808 45.3579 172.322 42.4803 Q170.855 39.5839 167.903 39.5839 M167.903 36.5747 Q172.623 36.5747 175.106 40.3174 Q177.607 44.0414 177.607 51.1507 Q177.607 58.2412 175.106 61.984 Q172.623 65.7079 167.903 65.7079 Q163.182 65.7079 160.68 61.984 Q158.198 58.2412 158.198 51.1507 Q158.198 44.0414 160.68 40.3174 Q163.182 36.5747 167.903 36.5747 Z\" fill=\"#000000\" fill-rule=\"evenodd\" fill-opacity=\"1\" /><polyline clip-path=\"url(#clip102)\" style=\"stroke:#009af9; stroke-linecap:round; stroke-linejoin:round; stroke-width:4; stroke-opacity:1; fill:none\" points=\"\n",
       "  274.149,87.9763 498.379,118.068 722.608,137.379 946.838,137.379 1171.07,137.379 1395.3,137.379 1619.53,137.379 1843.76,137.379 2067.98,137.379 2292.21,137.379 \n",
       "  \n",
       "  \"/>\n",
       "<polyline clip-path=\"url(#clip102)\" style=\"stroke:#e26f46; stroke-linecap:round; stroke-linejoin:round; stroke-width:4; stroke-opacity:1; fill:none\" points=\"\n",
       "  274.149,87.9763 498.379,115.665 722.608,170.607 946.838,205.454 1171.07,205.454 1395.3,205.454 1619.53,205.454 1843.76,205.454 2067.98,205.454 2292.21,205.454 \n",
       "  \n",
       "  \"/>\n",
       "<polyline clip-path=\"url(#clip102)\" style=\"stroke:#3da44d; stroke-linecap:round; stroke-linejoin:round; stroke-width:4; stroke-opacity:1; fill:none\" points=\"\n",
       "  274.149,87.9763 498.379,115.665 722.608,170.598 946.838,280.45 1171.07,354.071 1395.3,354.071 1619.53,354.071 1843.76,354.071 2067.98,354.071 2292.21,354.071 \n",
       "  \n",
       "  \"/>\n",
       "<polyline clip-path=\"url(#clip102)\" style=\"stroke:#c271d2; stroke-linecap:round; stroke-linejoin:round; stroke-width:4; stroke-opacity:1; fill:none\" points=\"\n",
       "  274.149,87.9763 498.379,115.665 722.608,170.598 946.838,280.45 1171.07,500.154 1395.3,939.561 1619.53,1445.72 1843.76,1445.72 2067.98,1445.72 2292.21,1445.72 \n",
       "  \n",
       "  \"/>\n",
       "<path clip-path=\"url(#clip100)\" d=\"\n",
       "M284.912 1438.47 L709.678 1438.47 L709.678 1179.27 L284.912 1179.27  Z\n",
       "  \" fill=\"#ffffff\" fill-rule=\"evenodd\" fill-opacity=\"1\"/>\n",
       "<polyline clip-path=\"url(#clip100)\" style=\"stroke:#000000; stroke-linecap:round; stroke-linejoin:round; stroke-width:4; stroke-opacity:1; fill:none\" points=\"\n",
       "  284.912,1438.47 709.678,1438.47 709.678,1179.27 284.912,1179.27 284.912,1438.47 \n",
       "  \"/>\n",
       "<polyline clip-path=\"url(#clip100)\" style=\"stroke:#009af9; stroke-linecap:round; stroke-linejoin:round; stroke-width:4; stroke-opacity:1; fill:none\" points=\"\n",
       "  308.681,1231.11 451.291,1231.11 \n",
       "  \"/>\n",
       "<path clip-path=\"url(#clip100)\" d=\"M475.059 1213.83 L494.92 1213.83 L494.92 1217.77 L479.735 1217.77 L479.735 1227.95 L493.438 1227.95 L493.438 1231.89 L479.735 1231.89 L479.735 1248.39 L475.059 1248.39 L475.059 1213.83 Z\" fill=\"#000000\" fill-rule=\"evenodd\" fill-opacity=\"1\" /><path clip-path=\"url(#clip100)\" d=\"M502.142 1212.38 L506.401 1212.38 L506.401 1248.39 L502.142 1248.39 L502.142 1212.38 Z\" fill=\"#000000\" fill-rule=\"evenodd\" fill-opacity=\"1\" /><path clip-path=\"url(#clip100)\" d=\"M525.36 1225.45 Q521.934 1225.45 519.943 1228.14 Q517.952 1230.8 517.952 1235.45 Q517.952 1240.11 519.92 1242.79 Q521.911 1245.45 525.36 1245.45 Q528.762 1245.45 530.753 1242.77 Q532.744 1240.08 532.744 1235.45 Q532.744 1230.85 530.753 1228.16 Q528.762 1225.45 525.36 1225.45 M525.36 1221.84 Q530.915 1221.84 534.086 1225.45 Q537.258 1229.07 537.258 1235.45 Q537.258 1241.82 534.086 1245.45 Q530.915 1249.07 525.36 1249.07 Q519.781 1249.07 516.61 1245.45 Q513.462 1241.82 513.462 1235.45 Q513.462 1229.07 516.61 1225.45 Q519.781 1221.84 525.36 1221.84 Z\" fill=\"#000000\" fill-rule=\"evenodd\" fill-opacity=\"1\" /><path clip-path=\"url(#clip100)\" d=\"M556.1 1235.36 Q550.938 1235.36 548.947 1236.54 Q546.957 1237.72 546.957 1240.57 Q546.957 1242.84 548.438 1244.18 Q549.943 1245.5 552.512 1245.5 Q556.054 1245.5 558.184 1243 Q560.336 1240.48 560.336 1236.31 L560.336 1235.36 L556.1 1235.36 M564.596 1233.6 L564.596 1248.39 L560.336 1248.39 L560.336 1244.46 Q558.878 1246.82 556.702 1247.95 Q554.526 1249.07 551.378 1249.07 Q547.397 1249.07 545.035 1246.84 Q542.697 1244.6 542.697 1240.85 Q542.697 1236.47 545.614 1234.25 Q548.554 1232.03 554.364 1232.03 L560.336 1232.03 L560.336 1231.61 Q560.336 1228.67 558.392 1227.08 Q556.471 1225.45 552.975 1225.45 Q550.753 1225.45 548.647 1225.99 Q546.54 1226.52 544.596 1227.58 L544.596 1223.65 Q546.934 1222.75 549.133 1222.31 Q551.332 1221.84 553.415 1221.84 Q559.04 1221.84 561.818 1224.76 Q564.596 1227.68 564.596 1233.6 Z\" fill=\"#000000\" fill-rule=\"evenodd\" fill-opacity=\"1\" /><path clip-path=\"url(#clip100)\" d=\"M577.582 1215.11 L577.582 1222.47 L586.355 1222.47 L586.355 1225.78 L577.582 1225.78 L577.582 1239.85 Q577.582 1243.02 578.438 1243.93 Q579.318 1244.83 581.98 1244.83 L586.355 1244.83 L586.355 1248.39 L581.98 1248.39 Q577.049 1248.39 575.174 1246.57 Q573.299 1244.71 573.299 1239.85 L573.299 1225.78 L570.174 1225.78 L570.174 1222.47 L573.299 1222.47 L573.299 1215.11 L577.582 1215.11 Z\" fill=\"#000000\" fill-rule=\"evenodd\" fill-opacity=\"1\" /><path clip-path=\"url(#clip100)\" d=\"M593.369 1244.46 L601.007 1244.46 L601.007 1218.09 L592.697 1219.76 L592.697 1215.5 L600.961 1213.83 L605.637 1213.83 L605.637 1244.46 L613.276 1244.46 L613.276 1248.39 L593.369 1248.39 L593.369 1244.46 Z\" fill=\"#000000\" fill-rule=\"evenodd\" fill-opacity=\"1\" /><path clip-path=\"url(#clip100)\" d=\"M633.299 1229.25 Q630.151 1229.25 628.299 1231.4 Q626.47 1233.56 626.47 1237.31 Q626.47 1241.03 628.299 1243.21 Q630.151 1245.36 633.299 1245.36 Q636.447 1245.36 638.276 1243.21 Q640.128 1241.03 640.128 1237.31 Q640.128 1233.56 638.276 1231.4 Q636.447 1229.25 633.299 1229.25 M642.581 1214.6 L642.581 1218.86 Q640.822 1218.02 639.016 1217.58 Q637.234 1217.14 635.475 1217.14 Q630.845 1217.14 628.391 1220.27 Q625.961 1223.39 625.614 1229.71 Q626.979 1227.7 629.04 1226.64 Q631.1 1225.55 633.577 1225.55 Q638.785 1225.55 641.794 1228.72 Q644.827 1231.87 644.827 1237.31 Q644.827 1242.63 641.678 1245.85 Q638.53 1249.07 633.299 1249.07 Q627.304 1249.07 624.132 1244.48 Q620.961 1239.88 620.961 1231.15 Q620.961 1222.95 624.85 1218.09 Q628.739 1213.21 635.29 1213.21 Q637.049 1213.21 638.831 1213.56 Q640.637 1213.9 642.581 1214.6 Z\" fill=\"#000000\" fill-rule=\"evenodd\" fill-opacity=\"1\" /><polyline clip-path=\"url(#clip100)\" style=\"stroke:#e26f46; stroke-linecap:round; stroke-linejoin:round; stroke-width:4; stroke-opacity:1; fill:none\" points=\"\n",
       "  308.681,1282.95 451.291,1282.95 \n",
       "  \"/>\n",
       "<path clip-path=\"url(#clip100)\" d=\"M475.059 1265.67 L494.92 1265.67 L494.92 1269.61 L479.735 1269.61 L479.735 1279.79 L493.438 1279.79 L493.438 1283.73 L479.735 1283.73 L479.735 1300.23 L475.059 1300.23 L475.059 1265.67 Z\" fill=\"#000000\" fill-rule=\"evenodd\" fill-opacity=\"1\" /><path clip-path=\"url(#clip100)\" d=\"M502.142 1264.22 L506.401 1264.22 L506.401 1300.23 L502.142 1300.23 L502.142 1264.22 Z\" fill=\"#000000\" fill-rule=\"evenodd\" fill-opacity=\"1\" /><path clip-path=\"url(#clip100)\" d=\"M525.36 1277.29 Q521.934 1277.29 519.943 1279.98 Q517.952 1282.64 517.952 1287.29 Q517.952 1291.95 519.92 1294.63 Q521.911 1297.29 525.36 1297.29 Q528.762 1297.29 530.753 1294.61 Q532.744 1291.92 532.744 1287.29 Q532.744 1282.69 530.753 1280 Q528.762 1277.29 525.36 1277.29 M525.36 1273.68 Q530.915 1273.68 534.086 1277.29 Q537.258 1280.91 537.258 1287.29 Q537.258 1293.66 534.086 1297.29 Q530.915 1300.91 525.36 1300.91 Q519.781 1300.91 516.61 1297.29 Q513.462 1293.66 513.462 1287.29 Q513.462 1280.91 516.61 1277.29 Q519.781 1273.68 525.36 1273.68 Z\" fill=\"#000000\" fill-rule=\"evenodd\" fill-opacity=\"1\" /><path clip-path=\"url(#clip100)\" d=\"M556.1 1287.2 Q550.938 1287.2 548.947 1288.38 Q546.957 1289.56 546.957 1292.41 Q546.957 1294.68 548.438 1296.02 Q549.943 1297.34 552.512 1297.34 Q556.054 1297.34 558.184 1294.84 Q560.336 1292.32 560.336 1288.15 L560.336 1287.2 L556.1 1287.2 M564.596 1285.44 L564.596 1300.23 L560.336 1300.23 L560.336 1296.3 Q558.878 1298.66 556.702 1299.79 Q554.526 1300.91 551.378 1300.91 Q547.397 1300.91 545.035 1298.68 Q542.697 1296.44 542.697 1292.69 Q542.697 1288.31 545.614 1286.09 Q548.554 1283.87 554.364 1283.87 L560.336 1283.87 L560.336 1283.45 Q560.336 1280.51 558.392 1278.92 Q556.471 1277.29 552.975 1277.29 Q550.753 1277.29 548.647 1277.83 Q546.54 1278.36 544.596 1279.42 L544.596 1275.49 Q546.934 1274.59 549.133 1274.15 Q551.332 1273.68 553.415 1273.68 Q559.04 1273.68 561.818 1276.6 Q564.596 1279.52 564.596 1285.44 Z\" fill=\"#000000\" fill-rule=\"evenodd\" fill-opacity=\"1\" /><path clip-path=\"url(#clip100)\" d=\"M577.582 1266.95 L577.582 1274.31 L586.355 1274.31 L586.355 1277.62 L577.582 1277.62 L577.582 1291.69 Q577.582 1294.86 578.438 1295.77 Q579.318 1296.67 581.98 1296.67 L586.355 1296.67 L586.355 1300.23 L581.98 1300.23 Q577.049 1300.23 575.174 1298.41 Q573.299 1296.55 573.299 1291.69 L573.299 1277.62 L570.174 1277.62 L570.174 1274.31 L573.299 1274.31 L573.299 1266.95 L577.582 1266.95 Z\" fill=\"#000000\" fill-rule=\"evenodd\" fill-opacity=\"1\" /><path clip-path=\"url(#clip100)\" d=\"M606.725 1281.6 Q610.081 1282.32 611.956 1284.59 Q613.855 1286.85 613.855 1290.19 Q613.855 1295.3 610.336 1298.1 Q606.818 1300.91 600.336 1300.91 Q598.16 1300.91 595.845 1300.47 Q593.554 1300.05 591.1 1299.19 L591.1 1294.68 Q593.044 1295.81 595.359 1296.39 Q597.674 1296.97 600.197 1296.97 Q604.595 1296.97 606.887 1295.23 Q609.202 1293.5 609.202 1290.19 Q609.202 1287.13 607.049 1285.42 Q604.919 1283.68 601.1 1283.68 L597.072 1283.68 L597.072 1279.84 L601.285 1279.84 Q604.734 1279.84 606.563 1278.48 Q608.392 1277.09 608.392 1274.49 Q608.392 1271.83 606.493 1270.42 Q604.618 1268.98 601.1 1268.98 Q599.179 1268.98 596.98 1269.4 Q594.781 1269.82 592.142 1270.7 L592.142 1266.53 Q594.804 1265.79 597.118 1265.42 Q599.456 1265.05 601.517 1265.05 Q606.841 1265.05 609.942 1267.48 Q613.044 1269.89 613.044 1274.01 Q613.044 1276.88 611.401 1278.87 Q609.757 1280.84 606.725 1281.6 Z\" fill=\"#000000\" fill-rule=\"evenodd\" fill-opacity=\"1\" /><path clip-path=\"url(#clip100)\" d=\"M626.748 1296.3 L643.067 1296.3 L643.067 1300.23 L621.123 1300.23 L621.123 1296.3 Q623.785 1293.54 628.368 1288.92 Q632.975 1284.26 634.155 1282.92 Q636.401 1280.4 637.28 1278.66 Q638.183 1276.9 638.183 1275.21 Q638.183 1272.46 636.239 1270.72 Q634.317 1268.98 631.216 1268.98 Q629.016 1268.98 626.563 1269.75 Q624.132 1270.51 621.354 1272.06 L621.354 1267.34 Q624.179 1266.21 626.632 1265.63 Q629.086 1265.05 631.123 1265.05 Q636.493 1265.05 639.688 1267.73 Q642.882 1270.42 642.882 1274.91 Q642.882 1277.04 642.072 1278.96 Q641.285 1280.86 639.178 1283.45 Q638.6 1284.12 635.498 1287.34 Q632.396 1290.54 626.748 1296.3 Z\" fill=\"#000000\" fill-rule=\"evenodd\" fill-opacity=\"1\" /><polyline clip-path=\"url(#clip100)\" style=\"stroke:#3da44d; stroke-linecap:round; stroke-linejoin:round; stroke-width:4; stroke-opacity:1; fill:none\" points=\"\n",
       "  308.681,1334.79 451.291,1334.79 \n",
       "  \"/>\n",
       "<path clip-path=\"url(#clip100)\" d=\"M475.059 1317.51 L494.92 1317.51 L494.92 1321.45 L479.735 1321.45 L479.735 1331.63 L493.438 1331.63 L493.438 1335.57 L479.735 1335.57 L479.735 1352.07 L475.059 1352.07 L475.059 1317.51 Z\" fill=\"#000000\" fill-rule=\"evenodd\" fill-opacity=\"1\" /><path clip-path=\"url(#clip100)\" d=\"M502.142 1316.06 L506.401 1316.06 L506.401 1352.07 L502.142 1352.07 L502.142 1316.06 Z\" fill=\"#000000\" fill-rule=\"evenodd\" fill-opacity=\"1\" /><path clip-path=\"url(#clip100)\" d=\"M525.36 1329.13 Q521.934 1329.13 519.943 1331.82 Q517.952 1334.48 517.952 1339.13 Q517.952 1343.79 519.92 1346.47 Q521.911 1349.13 525.36 1349.13 Q528.762 1349.13 530.753 1346.45 Q532.744 1343.76 532.744 1339.13 Q532.744 1334.53 530.753 1331.84 Q528.762 1329.13 525.36 1329.13 M525.36 1325.52 Q530.915 1325.52 534.086 1329.13 Q537.258 1332.75 537.258 1339.13 Q537.258 1345.5 534.086 1349.13 Q530.915 1352.75 525.36 1352.75 Q519.781 1352.75 516.61 1349.13 Q513.462 1345.5 513.462 1339.13 Q513.462 1332.75 516.61 1329.13 Q519.781 1325.52 525.36 1325.52 Z\" fill=\"#000000\" fill-rule=\"evenodd\" fill-opacity=\"1\" /><path clip-path=\"url(#clip100)\" d=\"M556.1 1339.04 Q550.938 1339.04 548.947 1340.22 Q546.957 1341.4 546.957 1344.25 Q546.957 1346.52 548.438 1347.86 Q549.943 1349.18 552.512 1349.18 Q556.054 1349.18 558.184 1346.68 Q560.336 1344.16 560.336 1339.99 L560.336 1339.04 L556.1 1339.04 M564.596 1337.28 L564.596 1352.07 L560.336 1352.07 L560.336 1348.14 Q558.878 1350.5 556.702 1351.63 Q554.526 1352.75 551.378 1352.75 Q547.397 1352.75 545.035 1350.52 Q542.697 1348.28 542.697 1344.53 Q542.697 1340.15 545.614 1337.93 Q548.554 1335.71 554.364 1335.71 L560.336 1335.71 L560.336 1335.29 Q560.336 1332.35 558.392 1330.76 Q556.471 1329.13 552.975 1329.13 Q550.753 1329.13 548.647 1329.67 Q546.54 1330.2 544.596 1331.26 L544.596 1327.33 Q546.934 1326.43 549.133 1325.99 Q551.332 1325.52 553.415 1325.52 Q559.04 1325.52 561.818 1328.44 Q564.596 1331.36 564.596 1337.28 Z\" fill=\"#000000\" fill-rule=\"evenodd\" fill-opacity=\"1\" /><path clip-path=\"url(#clip100)\" d=\"M577.582 1318.79 L577.582 1326.15 L586.355 1326.15 L586.355 1329.46 L577.582 1329.46 L577.582 1343.53 Q577.582 1346.7 578.438 1347.61 Q579.318 1348.51 581.98 1348.51 L586.355 1348.51 L586.355 1352.07 L581.98 1352.07 Q577.049 1352.07 575.174 1350.25 Q573.299 1348.39 573.299 1343.53 L573.299 1329.46 L570.174 1329.46 L570.174 1326.15 L573.299 1326.15 L573.299 1318.79 L577.582 1318.79 Z\" fill=\"#000000\" fill-rule=\"evenodd\" fill-opacity=\"1\" /><path clip-path=\"url(#clip100)\" d=\"M603.137 1332.93 Q599.989 1332.93 598.137 1335.08 Q596.308 1337.24 596.308 1340.99 Q596.308 1344.71 598.137 1346.89 Q599.989 1349.04 603.137 1349.04 Q606.285 1349.04 608.114 1346.89 Q609.966 1344.71 609.966 1340.99 Q609.966 1337.24 608.114 1335.08 Q606.285 1332.93 603.137 1332.93 M612.419 1318.28 L612.419 1322.54 Q610.66 1321.7 608.855 1321.26 Q607.072 1320.82 605.313 1320.82 Q600.683 1320.82 598.23 1323.95 Q595.799 1327.07 595.452 1333.39 Q596.818 1331.38 598.878 1330.32 Q600.938 1329.23 603.415 1329.23 Q608.623 1329.23 611.632 1332.4 Q614.665 1335.55 614.665 1340.99 Q614.665 1346.31 611.517 1349.53 Q608.368 1352.75 603.137 1352.75 Q597.142 1352.75 593.97 1348.16 Q590.799 1343.56 590.799 1334.83 Q590.799 1326.63 594.688 1321.77 Q598.577 1316.89 605.128 1316.89 Q606.887 1316.89 608.669 1317.24 Q610.475 1317.58 612.419 1318.28 Z\" fill=\"#000000\" fill-rule=\"evenodd\" fill-opacity=\"1\" /><path clip-path=\"url(#clip100)\" d=\"M635.567 1321.59 L623.762 1340.04 L635.567 1340.04 L635.567 1321.59 M634.341 1317.51 L640.22 1317.51 L640.22 1340.04 L645.151 1340.04 L645.151 1343.93 L640.22 1343.93 L640.22 1352.07 L635.567 1352.07 L635.567 1343.93 L619.966 1343.93 L619.966 1339.41 L634.341 1317.51 Z\" fill=\"#000000\" fill-rule=\"evenodd\" fill-opacity=\"1\" /><polyline clip-path=\"url(#clip100)\" style=\"stroke:#c271d2; stroke-linecap:round; stroke-linejoin:round; stroke-width:4; stroke-opacity:1; fill:none\" points=\"\n",
       "  308.681,1386.63 451.291,1386.63 \n",
       "  \"/>\n",
       "<path clip-path=\"url(#clip100)\" d=\"M479.735 1387.41 L479.735 1400.07 L487.235 1400.07 Q491.008 1400.07 492.813 1398.52 Q494.642 1396.95 494.642 1393.73 Q494.642 1390.49 492.813 1388.96 Q491.008 1387.41 487.235 1387.41 L479.735 1387.41 M479.735 1373.2 L479.735 1383.61 L486.656 1383.61 Q490.082 1383.61 491.749 1382.34 Q493.438 1381.04 493.438 1378.41 Q493.438 1375.79 491.749 1374.49 Q490.082 1373.2 486.656 1373.2 L479.735 1373.2 M475.059 1369.35 L487.003 1369.35 Q492.351 1369.35 495.244 1371.58 Q498.138 1373.8 498.138 1377.9 Q498.138 1381.07 496.656 1382.94 Q495.175 1384.82 492.304 1385.28 Q495.753 1386.02 497.651 1388.38 Q499.573 1390.72 499.573 1394.24 Q499.573 1398.87 496.425 1401.39 Q493.276 1403.91 487.466 1403.91 L475.059 1403.91 L475.059 1369.35 Z\" fill=\"#000000\" fill-rule=\"evenodd\" fill-opacity=\"1\" /><path clip-path=\"url(#clip100)\" d=\"M507.397 1377.99 L511.656 1377.99 L511.656 1403.91 L507.397 1403.91 L507.397 1377.99 M507.397 1367.9 L511.656 1367.9 L511.656 1373.29 L507.397 1373.29 L507.397 1367.9 Z\" fill=\"#000000\" fill-rule=\"evenodd\" fill-opacity=\"1\" /><path clip-path=\"url(#clip100)\" d=\"M537.628 1390.65 Q537.628 1386.02 535.707 1383.47 Q533.809 1380.93 530.36 1380.93 Q526.934 1380.93 525.012 1383.47 Q523.114 1386.02 523.114 1390.65 Q523.114 1395.26 525.012 1397.8 Q526.934 1400.35 530.36 1400.35 Q533.809 1400.35 535.707 1397.8 Q537.628 1395.26 537.628 1390.65 M541.887 1400.7 Q541.887 1407.32 538.947 1410.53 Q536.008 1413.78 529.943 1413.78 Q527.698 1413.78 525.707 1413.43 Q523.716 1413.1 521.841 1412.41 L521.841 1408.27 Q523.716 1409.28 525.545 1409.77 Q527.373 1410.26 529.272 1410.26 Q533.461 1410.26 535.545 1408.06 Q537.628 1405.88 537.628 1401.46 L537.628 1399.35 Q536.309 1401.65 534.248 1402.78 Q532.188 1403.91 529.318 1403.91 Q524.549 1403.91 521.633 1400.28 Q518.716 1396.65 518.716 1390.65 Q518.716 1384.63 521.633 1381 Q524.549 1377.36 529.318 1377.36 Q532.188 1377.36 534.248 1378.5 Q536.309 1379.63 537.628 1381.92 L537.628 1377.99 L541.887 1377.99 L541.887 1400.7 Z\" fill=\"#000000\" fill-rule=\"evenodd\" fill-opacity=\"1\" /><path clip-path=\"url(#clip100)\" d=\"M550.846 1369.35 L570.707 1369.35 L570.707 1373.29 L555.521 1373.29 L555.521 1383.47 L569.225 1383.47 L569.225 1387.41 L555.521 1387.41 L555.521 1403.91 L550.846 1403.91 L550.846 1369.35 Z\" fill=\"#000000\" fill-rule=\"evenodd\" fill-opacity=\"1\" /><path clip-path=\"url(#clip100)\" d=\"M577.929 1367.9 L582.188 1367.9 L582.188 1403.91 L577.929 1403.91 L577.929 1367.9 Z\" fill=\"#000000\" fill-rule=\"evenodd\" fill-opacity=\"1\" /><path clip-path=\"url(#clip100)\" d=\"M601.146 1380.97 Q597.72 1380.97 595.73 1383.66 Q593.739 1386.32 593.739 1390.97 Q593.739 1395.63 595.706 1398.31 Q597.697 1400.97 601.146 1400.97 Q604.549 1400.97 606.54 1398.29 Q608.53 1395.6 608.53 1390.97 Q608.53 1386.37 606.54 1383.68 Q604.549 1380.97 601.146 1380.97 M601.146 1377.36 Q606.702 1377.36 609.873 1380.97 Q613.044 1384.59 613.044 1390.97 Q613.044 1397.34 609.873 1400.97 Q606.702 1404.59 601.146 1404.59 Q595.568 1404.59 592.396 1400.97 Q589.248 1397.34 589.248 1390.97 Q589.248 1384.59 592.396 1380.97 Q595.568 1377.36 601.146 1377.36 Z\" fill=\"#000000\" fill-rule=\"evenodd\" fill-opacity=\"1\" /><path clip-path=\"url(#clip100)\" d=\"M631.887 1390.88 Q626.725 1390.88 624.734 1392.06 Q622.743 1393.24 622.743 1396.09 Q622.743 1398.36 624.225 1399.7 Q625.729 1401.02 628.299 1401.02 Q631.841 1401.02 633.97 1398.52 Q636.123 1396 636.123 1391.83 L636.123 1390.88 L631.887 1390.88 M640.382 1389.12 L640.382 1403.91 L636.123 1403.91 L636.123 1399.98 Q634.665 1402.34 632.489 1403.47 Q630.313 1404.59 627.165 1404.59 Q623.183 1404.59 620.822 1402.36 Q618.484 1400.12 618.484 1396.37 Q618.484 1391.99 621.401 1389.77 Q624.341 1387.55 630.151 1387.55 L636.123 1387.55 L636.123 1387.13 Q636.123 1384.19 634.178 1382.6 Q632.257 1380.97 628.762 1380.97 Q626.54 1380.97 624.433 1381.51 Q622.327 1382.04 620.382 1383.1 L620.382 1379.17 Q622.72 1378.27 624.919 1377.83 Q627.118 1377.36 629.202 1377.36 Q634.827 1377.36 637.604 1380.28 Q640.382 1383.2 640.382 1389.12 Z\" fill=\"#000000\" fill-rule=\"evenodd\" fill-opacity=\"1\" /><path clip-path=\"url(#clip100)\" d=\"M653.368 1370.63 L653.368 1377.99 L662.141 1377.99 L662.141 1381.3 L653.368 1381.3 L653.368 1395.37 Q653.368 1398.54 654.225 1399.45 Q655.104 1400.35 657.766 1400.35 L662.141 1400.35 L662.141 1403.91 L657.766 1403.91 Q652.836 1403.91 650.961 1402.09 Q649.086 1400.23 649.086 1395.37 L649.086 1381.3 L645.961 1381.3 L645.961 1377.99 L649.086 1377.99 L649.086 1370.63 L653.368 1370.63 Z\" fill=\"#000000\" fill-rule=\"evenodd\" fill-opacity=\"1\" /></svg>\n"
      ]
     },
     "execution_count": 16,
     "metadata": {},
     "output_type": "execute_result"
    }
   ],
   "source": [
    "using Plots\n",
    "\n",
    "Nmax = 10\n",
    "p = plot(; yaxis=:log, legend=:bottomleft)\n",
    "reference = sqrt(big\"2.0\")\n",
    "for (i, T) in enumerate((Float16, Float32, Float64, BigFloat))\n",
    "    probe  = T(big\"2.0\")\n",
    "    errors = [abs(reference - babylonian_sqrt(probe; N)) for N in 1:Nmax]\n",
    "    plot!(p, 1:Nmax, errors; label=string(T), m=:x, color=i)\n",
    "    hline!(p, [eps(T)]; color=i, ls=:dash, label=\"eps($T)\")\n",
    "end\n",
    "p"
   ]
  },
  {
   "cell_type": "code",
   "execution_count": 17,
   "id": "de7a0079",
   "metadata": {},
   "outputs": [
    {
     "data": {
      "text/plain": [
       "derivative (generic function with 1 method)"
      ]
     },
     "execution_count": 17,
     "metadata": {},
     "output_type": "execute_result"
    }
   ],
   "source": [
    "struct Dual <: Number\n",
    "    x::Float64   # Value\n",
    "    δx::Float64  # Derivative\n",
    "end\n",
    "\n",
    "# Implementation of basic derivative rules:\n",
    "Base.:+(a::Dual, b::Dual) = Dual(a.x + b.x, a.δx + b.δx)\n",
    "Base.:-(a::Dual, b::Dual) = Dual(a.x - b.x, a.δx - b.δx)\n",
    "Base.:*(a::Dual, b::Dual) = Dual(a.x * b.x,  a.x * b.δx + a.δx * b.x )\n",
    "Base.:/(a::Dual, b::Dual) = Dual(a.x / b.x, (b.x * a.δx - a.x  * b.δx) / b.x^2)\n",
    "\n",
    "# Handling type conversion\n",
    "Base.convert(::Type{Dual}, x::Real) = Dual(x, zero(x))\n",
    "Base.promote_rule(::Type{Dual}, ::Type{<:Number}) = Dual\n",
    "\n",
    "# Our derivative function\n",
    "derivative(f::Function, x::Number) = f(Dual(x, one(x))).δx"
   ]
  },
  {
   "cell_type": "markdown",
   "id": "267d57d3",
   "metadata": {},
   "source": [
    "3. Compare `derivative(babylonian_sqrt, some_number)` against the correct analytical derivative of $\\sqrt{x}$ at this point. Does it give the correct derivative?"
   ]
  },
  {
   "cell_type": "code",
   "execution_count": 26,
   "id": "fbeb0104",
   "metadata": {},
   "outputs": [
    {
     "name": "stdout",
     "output_type": "stream",
     "text": [
      "x = 2.0   diff = 0.0\n",
      "x = 3.0   diff = -5.551115123125783e-17\n",
      "x = 5.0   diff = 0.0\n"
     ]
    }
   ],
   "source": [
    "dsqrt(x) = 1 / 2sqrt(x)  # Analytical derivative\n",
    "\n",
    "for x in [2.0, 3.0, 5.0]\n",
    "    println(\"x = $x   diff = \", derivative(babylonian_sqrt, x) - dsqrt(x))\n",
    "end"
   ]
  },
  {
   "cell_type": "markdown",
   "id": "fb2ea41d",
   "metadata": {},
   "source": [
    "\n",
    "4. Try `derivative` on other functions or algorithms. For example code up a recursive exponentiation function like"
   ]
  },
  {
   "cell_type": "code",
   "execution_count": 27,
   "id": "7e1ad29a",
   "metadata": {},
   "outputs": [
    {
     "data": {
      "text/plain": [
       "pow (generic function with 1 method)"
      ]
     },
     "execution_count": 27,
     "metadata": {},
     "output_type": "execute_result"
    }
   ],
   "source": [
    "pow(x, n) = n <= 0 ? one(x) : x * pow(x, n - 1)"
   ]
  },
  {
   "cell_type": "code",
   "execution_count": 32,
   "id": "639df54e",
   "metadata": {},
   "outputs": [
    {
     "name": "stdout",
     "output_type": "stream",
     "text": [
      "autodiff = 32.0\n",
      "exact = 32.0\n"
     ]
    }
   ],
   "source": [
    "autodiff = derivative(x -> pow(x, 4), 2.0)\n",
    "exact = 4 * 2.0^3\n",
    "\n",
    "@show autodiff exact;"
   ]
  },
  {
   "cell_type": "markdown",
   "id": "4b0cf023",
   "metadata": {},
   "source": [
    "$$\n",
    "\\text{babylonian_sqrt}(x; N=4) \\approx \\begin{equation}\n",
    "\\frac{\\frac{1}{32768} + \\frac{15}{4096} x + \\frac{455}{8192} x^{2} + \\frac{15}{4096} x^{7} + \\frac{455}{8192} x^{6} + \\frac{1001}{4096} x^{3} + \\frac{6435}{16384} x^{4} + \\frac{1001}{4096} x^{5} + \\frac{1}{32768} x^{8}}{\\left( \\frac{1}{2} + \\frac{1}{2} x \\right) \\left( \\frac{1}{8} + \\frac{1}{8} x^{2} + \\frac{3}{4} x \\right) \\left( \\frac{1}{128} + \\frac{1}{128} x^{4} + \\frac{7}{32} x + \\frac{35}{64} x^{2} + \\frac{7}{32} x^{3} \\right)}\n",
    "\\end{equation}\n",
    "$$\n",
    "\n",
    "5. Is this formula correct?\n",
    "    - Hint: Use the `Symbolics` package, in particular `@variables x` and `simplify`.\n",
    "    - Note: Make sure you have `N=4` since for larger `N` problems might start to occur."
   ]
  },
  {
   "cell_type": "code",
   "execution_count": 34,
   "id": "2661905a",
   "metadata": {},
   "outputs": [
    {
     "data": {
      "text/latex": [
       "\\begin{equation}\n",
       "\\frac{1}{2} + \\frac{1}{2} x\n",
       "\\end{equation}\n"
      ],
      "text/plain": [
       "(1//2) + (1//2)*x"
      ]
     },
     "metadata": {},
     "output_type": "display_data"
    },
    {
     "data": {
      "text/latex": [
       "\\begin{equation}\n",
       "\\frac{1}{4} + \\frac{1}{4} x + \\frac{\\frac{1}{2} x}{\\frac{1}{2} + \\frac{1}{2} x}\n",
       "\\end{equation}\n"
      ],
      "text/plain": [
       "(1//4) + (1//4)*x + ((1//2)*x) / ((1//2) + (1//2)*x)"
      ]
     },
     "metadata": {},
     "output_type": "display_data"
    },
    {
     "data": {
      "text/latex": [
       "\\begin{equation}\n",
       "\\frac{1}{8} + \\frac{1}{8} x + \\frac{\\frac{1}{4} x}{\\frac{1}{2} + \\frac{1}{2} x} + \\frac{\\frac{1}{2} x}{\\frac{1}{4} + \\frac{1}{4} x + \\frac{\\frac{1}{2} x}{\\frac{1}{2} + \\frac{1}{2} x}}\n",
       "\\end{equation}\n"
      ],
      "text/plain": [
       "(1//8) + (1//8)*x + ((1//4)*x) / ((1//2) + (1//2)*x) + ((1//2)*x) / ((1//4) + (1//4)*x + ((1//2)*x) / ((1//2) + (1//2)*x))"
      ]
     },
     "metadata": {},
     "output_type": "display_data"
    },
    {
     "data": {
      "text/latex": [
       "\\begin{equation}\n",
       "\\frac{1}{16} + \\frac{1}{16} x + \\frac{\\frac{1}{8} x}{\\frac{1}{2} + \\frac{1}{2} x} + \\frac{\\frac{1}{4} x}{\\frac{1}{4} + \\frac{1}{4} x + \\frac{\\frac{1}{2} x}{\\frac{1}{2} + \\frac{1}{2} x}} + \\frac{\\frac{1}{2} x}{\\frac{1}{8} + \\frac{1}{8} x + \\frac{\\frac{1}{4} x}{\\frac{1}{2} + \\frac{1}{2} x} + \\frac{\\frac{1}{2} x}{\\frac{1}{4} + \\frac{1}{4} x + \\frac{\\frac{1}{2} x}{\\frac{1}{2} + \\frac{1}{2} x}}}\n",
       "\\end{equation}\n"
      ],
      "text/plain": [
       "(1//16) + (1//16)*x + ((1//8)*x) / ((1//2) + (1//2)*x) + ((1//4)*x) / ((1//4) + (1//4)*x + ((1//2)*x) / ((1//2) + (1//2)*x)) + ((1//2)*x) / ((1//8) + (1//8)*x + ((1//4)*x) / ((1//2) + (1//2)*x) + ((1//2)*x) / ((1//4) + (1//4)*x + ((1//2)*x) / ((1//2) + (1//2)*x)))"
      ]
     },
     "metadata": {},
     "output_type": "display_data"
    }
   ],
   "source": [
    "using Symbolics\n",
    "@variables x\n",
    "\n",
    "for i in 1:4\n",
    "    display(babylonian_sqrt(x; N=i))\n",
    "end"
   ]
  },
  {
   "cell_type": "code",
   "execution_count": 36,
   "id": "de98501d",
   "metadata": {},
   "outputs": [
    {
     "data": {
      "text/latex": [
       "\\begin{equation}\n",
       "\\frac{\\frac{1}{32768} + \\frac{15}{4096} x + \\frac{455}{8192} x^{2} + \\frac{15}{4096} x^{7} + \\frac{455}{8192} x^{6} + \\frac{1001}{4096} x^{3} + \\frac{6435}{16384} x^{4} + \\frac{1001}{4096} x^{5} + \\frac{1}{32768} x^{8}}{\\left( \\frac{1}{2} + \\frac{1}{2} x \\right) \\left( \\frac{1}{8} + \\frac{1}{8} x^{2} + \\frac{3}{4} x \\right) \\left( \\frac{1}{128} + \\frac{1}{128} x^{4} + \\frac{7}{32} x + \\frac{35}{64} x^{2} + \\frac{7}{32} x^{3} \\right)}\n",
       "\\end{equation}\n"
      ],
      "text/plain": [
       "((1//32768) + (15//4096)*x + (455//8192)*(x^2) + (15//4096)*(x^7) + (455//8192)*(x^6) + (1001//4096)*(x^3) + (6435//16384)*(x^4) + (1001//4096)*(x^5) + (1//32768)*(x^8)) / (((1//2) + (1//2)*x)*((1//8) + (1//8)*(x^2) + (3//4)*x)*((1//128) + (1//128)*(x^4) + (7//32)*x + (35//64)*(x^2) + (7//32)*(x^3)))"
      ]
     },
     "execution_count": 36,
     "metadata": {},
     "output_type": "execute_result"
    }
   ],
   "source": [
    "simplify(babylonian_sqrt(x; N=4))"
   ]
  },
  {
   "cell_type": "markdown",
   "id": "e6b799b5",
   "metadata": {},
   "source": [
    "# [16_Performance_Engineering](../16_Performance_Engineering.ipynb)"
   ]
  },
  {
   "cell_type": "markdown",
   "id": "d8e47a48",
   "metadata": {},
   "source": [
    "## Optimisation project 1"
   ]
  },
  {
   "cell_type": "code",
   "execution_count": null,
   "id": "7f1deefe",
   "metadata": {},
   "outputs": [],
   "source": [
    "using BenchmarkTools\n",
    "\n",
    "N = 100\n",
    "A = rand(N, N)\n",
    "b = rand(N)\n",
    "c = 1.23;"
   ]
  },
  {
   "cell_type": "markdown",
   "id": "6e37df68",
   "metadata": {},
   "source": [
    "#### Unoptimised code"
   ]
  },
  {
   "cell_type": "code",
   "execution_count": null,
   "id": "8b9a9595",
   "metadata": {},
   "outputs": [],
   "source": [
    "function work!(A, N)\n",
    "    D = zeros(N, N)\n",
    "    for i in 1:N\n",
    "        D = b[i] * c * A\n",
    "        b[i] = sum(D)\n",
    "    end\n",
    "end\n",
    "\n",
    "@btime work!($A, $N);"
   ]
  },
  {
   "cell_type": "markdown",
   "id": "f7269cb1",
   "metadata": {},
   "source": [
    "First we run `@code_warntype` to check for type instabilities:"
   ]
  },
  {
   "cell_type": "code",
   "execution_count": null,
   "id": "32e61639",
   "metadata": {},
   "outputs": [],
   "source": [
    "@code_warntype work!(A, N)"
   ]
  },
  {
   "cell_type": "markdown",
   "id": "5127ea33",
   "metadata": {},
   "source": [
    "`D` is of type `Any`, because it depends on the global variables `b` and `c`. We fix that first:"
   ]
  },
  {
   "cell_type": "markdown",
   "id": "03390ce0",
   "metadata": {},
   "source": [
    "#### Avoiding globals"
   ]
  },
  {
   "cell_type": "code",
   "execution_count": null,
   "id": "0a9744c1",
   "metadata": {},
   "outputs": [],
   "source": [
    "function work2!(A, N, b, c)\n",
    "    D = zeros(N, N)\n",
    "    for i in 1:N\n",
    "        D = b[i] * c * A\n",
    "        b[i] = sum(D)\n",
    "    end\n",
    "end\n",
    "\n",
    "@btime work2!($A, $N, $b, $c);"
   ]
  },
  {
   "cell_type": "code",
   "execution_count": null,
   "id": "56209a4f",
   "metadata": {},
   "outputs": [],
   "source": [
    "@code_warntype work2!(A, N, b, c)"
   ]
  },
  {
   "cell_type": "markdown",
   "id": "2e2ad1ac",
   "metadata": {},
   "source": [
    "#### Avoiding allocations\n",
    "\n",
    "That's fixed. Next we use vectorised operations to avoid allocations and avoid bounds checks:"
   ]
  },
  {
   "cell_type": "code",
   "execution_count": null,
   "id": "aff0ba5d",
   "metadata": {},
   "outputs": [],
   "source": [
    "function work3!(A, N, b, c)\n",
    "    D = zeros(N, N)\n",
    "    @inbounds for i in 1:N\n",
    "        @. D = b[i] * c * A\n",
    "        b[i] = sum(D)\n",
    "    end\n",
    "end\n",
    "\n",
    "@btime work3!($A, $N, $b, $c);"
   ]
  },
  {
   "cell_type": "markdown",
   "id": "ae5cff6e",
   "metadata": {},
   "source": [
    "#### Improving the algorithm\n",
    "\n",
    "The multiplication by `b[i]` and `c` can be factored out:"
   ]
  },
  {
   "cell_type": "code",
   "execution_count": null,
   "id": "0e866347",
   "metadata": {},
   "outputs": [],
   "source": [
    "function work4!(A, N, b, c)\n",
    "    b .*= c * sum(A)\n",
    "end\n",
    "\n",
    "@btime work4!($A, $N, $b, $c);"
   ]
  },
  {
   "cell_type": "markdown",
   "id": "5bcaf8e3",
   "metadata": {},
   "source": [
    "## Optimisation project 2"
   ]
  },
  {
   "cell_type": "code",
   "execution_count": null,
   "id": "6f5e8833",
   "metadata": {},
   "outputs": [],
   "source": [
    "using BenchmarkTools\n",
    "\n",
    "N = 4000\n",
    "A = zeros(N,N)\n",
    "B = rand(N,N)\n",
    "v = rand(Int, N);"
   ]
  },
  {
   "cell_type": "markdown",
   "id": "ec715357",
   "metadata": {},
   "source": [
    "#### Unoptimized code"
   ]
  },
  {
   "cell_type": "code",
   "execution_count": null,
   "id": "4fcc1feb",
   "metadata": {},
   "outputs": [],
   "source": [
    "function work!(A, B, v, N)\n",
    "    val = 0\n",
    "    for i in 1:N\n",
    "        for j in 1:N\n",
    "            val = mod(v[i], 256);\n",
    "            A[i, j] = B[i, j] * (sin(val) * sin(val) - cos(val) * cos(val));\n",
    "        end\n",
    "    end\n",
    "end\n",
    "\n",
    "runtime = @belapsed work!($A, $B, $v, $N);\n",
    "println(\"Performance: $(N^2 * 1e-6 / runtime) MIt/s\")"
   ]
  },
  {
   "cell_type": "markdown",
   "id": "aa102a38",
   "metadata": {},
   "source": [
    "#### Simplification\n",
    "\n",
    "Notice:\n",
    "$$\n",
    "    \\sin(x) \\sin(x) - \\cos(x) \\cos(x) = 1 - 2 \\cos(x) \\cos(x) = - \\cos(2x)\n",
    "$$"
   ]
  },
  {
   "cell_type": "code",
   "execution_count": null,
   "id": "027a6d07",
   "metadata": {},
   "outputs": [],
   "source": [
    "x = rand()\n",
    "sin(x)*sin(x) - cos(x)*cos(x) ≈ -cos(2x)"
   ]
  },
  {
   "cell_type": "code",
   "execution_count": null,
   "id": "0a580f84",
   "metadata": {},
   "outputs": [],
   "source": [
    "function work2!(A, B, v, N)\n",
    "    for i in 1:N\n",
    "        for j in 1:N \n",
    "            val = -cos(2mod(v[i], 256))\n",
    "            A[i, j] = B[i, j] * val\n",
    "        end\n",
    "    end\n",
    "end\n",
    "\n",
    "runtime = @belapsed work2!($A, $B, $v, $N);\n",
    "println(\"Performance: $(N^2 * 1e-6 / runtime) MIt/s\")"
   ]
  },
  {
   "cell_type": "markdown",
   "id": "6b91c2bc",
   "metadata": {},
   "source": [
    "#### Avoiding recomputation in the inner loop\n",
    "\n",
    "We move the computation of the the second factor out of the inner loop:"
   ]
  },
  {
   "cell_type": "code",
   "execution_count": null,
   "id": "9893eabd",
   "metadata": {},
   "outputs": [],
   "source": [
    "function work3!(A, B, v, N)\n",
    "    for i in 1:N\n",
    "        val = -cos(2mod(v[i], 256))\n",
    "        for j in 1:N \n",
    "            A[i, j] = B[i, j] * val\n",
    "        end\n",
    "    end\n",
    "end\n",
    "\n",
    "runtime = @belapsed work3!($A, $B, $v, $N);\n",
    "println(\"Performance: $(N^2 * 1e-6 / runtime) MIt/s\")"
   ]
  },
  {
   "cell_type": "markdown",
   "id": "a4dbdbc5",
   "metadata": {},
   "source": [
    "#### Precompute val factor"
   ]
  },
  {
   "cell_type": "code",
   "execution_count": null,
   "id": "cedc1221",
   "metadata": {},
   "outputs": [],
   "source": [
    "function work4!(A, B, v, N)\n",
    "    val = -cos.(2mod.(v, 256))\n",
    "    for i in 1:N\n",
    "        for j in 1:N \n",
    "            A[i, j] = B[i, j] * val[i]\n",
    "        end\n",
    "    end\n",
    "end\n",
    "runtime = @belapsed work4!($A, $B, $v, $N);\n",
    "println(\"Performance: $(N^2 * 1e-6 / runtime) MIt/s\")"
   ]
  },
  {
   "cell_type": "markdown",
   "id": "57a7c388",
   "metadata": {},
   "source": [
    "#### Switch loop order"
   ]
  },
  {
   "cell_type": "code",
   "execution_count": null,
   "id": "d32deda3",
   "metadata": {},
   "outputs": [],
   "source": [
    "function work5!(A, B, v, N)\n",
    "    val = -cos.(2mod.(v, 256))\n",
    "    for j in 1:N\n",
    "        for i in 1:N \n",
    "            A[i, j] = B[i, j] * val[i]\n",
    "        end\n",
    "    end\n",
    "end\n",
    "runtime = @belapsed work5!($A, $B, $v, $N);\n",
    "println(\"Performance: $(N^2 * 1e-6 / runtime) MIt/s\")"
   ]
  },
  {
   "cell_type": "markdown",
   "id": "04955f96",
   "metadata": {},
   "source": [
    "#### Inbounds"
   ]
  },
  {
   "cell_type": "code",
   "execution_count": null,
   "id": "91d4f11c",
   "metadata": {},
   "outputs": [],
   "source": [
    "function work6!(A, B, v, N)\n",
    "    val = -cos.(2mod.(v, 256))\n",
    "    @inbounds for j in 1:N\n",
    "        for i in 1:N \n",
    "            A[i, j] = B[i, j] * val[i]\n",
    "        end\n",
    "    end\n",
    "end\n",
    "runtime = @belapsed work6!($A, $B, $v, $N);\n",
    "println(\"Performance: $(N^2 * 1e-6 / runtime) MIt/s\")"
   ]
  }
 ],
 "metadata": {
  "@webio": {
   "lastCommId": null,
   "lastKernelId": null
  },
  "kernelspec": {
   "display_name": "Julia 1.8.1",
   "language": "julia",
   "name": "julia-1.8"
  },
  "language_info": {
   "file_extension": ".jl",
   "mimetype": "application/julia",
   "name": "julia",
   "version": "1.8.1"
  }
 },
 "nbformat": 4,
 "nbformat_minor": 5
}
